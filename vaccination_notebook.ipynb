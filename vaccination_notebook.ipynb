{
 "cells": [
  {
   "cell_type": "markdown",
   "id": "3819cbb8",
   "metadata": {},
   "source": [
    "## Prediction of H1N1 and Seasonal Flu Vaccination Uptake Using Machine Learning.\n",
    "\n",
    "### Introduction\n",
    "**Influenza** is a contagious respiratory illness that can cause serious complications, sometimes leading to hospitalization or even death. Remember the **Spanish Flu** that spread across the world courtesy of returning soldiers after World War 1? That was influenza. Those most at risk include older adults (65+ years), young children, and individuals with underlying health conditions (WHO, 2024).\n",
    "\n",
    "![Makeshift Spanish Flu ward, 1918](Makeshift_spanish_flu_ward.JPG)\n",
    "\n",
    "The best way to protect yourself is through an annual flu vaccine, which reduces the severity of illness and related complications. The vaccine works by stimulating your immune system to produce protective antibodies within about two weeks (CDC, 2024). Health authorities recommend that everyone aged 6 months and older get vaccinated every year.\n",
    "\n",
    "The **H1N1 pandemic** began in 2009 when a new influenza A virus strain emerged in the United States. It caused widespread illness and an estimated 151,700–575,400 deaths globally. Unlike typical seasonal flu, this outbreak mainly affected children and younger adults, while older adults were less impacted—likely because they had pre-existing immunity from exposure to a similar virus decades earlier. A targeted vaccine was rolled out in October 2009, and by August 2010, the World Health Organization declared the pandemic over. However, H1N1 did not disappear; it continues to circulate as part of the seasonal flu viruses we see today (CDC, 2024).\n",
    "\n",
    "![Electron microscope image of H1N1 virus](Electron_microscopy_h1n1_virus.JPG)\n",
    "\n",
    "**Coronavirus Disease 2019 (COVID‑19)** was first identified in late 2019 in Wuhan, China, after clusters of patients presented with a severe respiratory illness resembling viral pneumonia. Rapid global spread, high hospitalization burdens in some settings, and early mortality uncertainty drove an urgent push to develop vaccines at unprecedented speed. That speed—along with changing public guidance, misinformation, and broader social distrust—contributed to widespread worry and reluctance around COVID‑19 vaccination in many communities (WHO; CDC; global public health reports).\n",
    "\n",
    "This hesitation was not new. During the 2009 pandemic, public health officials reported similar concerns about a “fast‑tracked” vaccine, and uptake varied widely across populations. Studies from that period showed that risk perception, trust in authorities, and beliefs about vaccine safety strongly influenced whether people agreed to be immunized (global influenza behavior studies; pandemic preparedness literature).\n",
    "\n",
    "Vaccine hesitancy refers to delay in acceptance or refusal of vaccines despite availability of vaccination services. It is shaped by factors such as confidence (trust in the vaccine and the system that delivers it), complacency (perceived need for the vaccine), and convenience (access). Hesitancy can shift over time and across social or cultural settings and has been identified by global health agencies as a significant threat to disease control efforts (WHO Strategic Advisory Group of Experts on Immunization; global vaccine confidence monitoring initiatives).\n",
    "\n",
    "![To vaccinate, or not to vaccinate? That's the question.](Herd_immunity.JPG)\n",
    "\n",
    "Pandemics amplify the stakes. When large numbers postpone or refuse vaccination during a fast‑moving outbreak, the result can be preventable illness, strain on health systems, and sustained community transmission. Evidence from recent survey research suggests that past vaccine behavior may predict future decisions: people who declined a prior influenza (including H1N1) vaccine have often reported lower willingness to accept newer vaccines such as those for COVID‑19 (comparative vaccine acceptance studies; vaccine confidence surveys).\n",
    "\n",
    "#### What should public health teams do?\n",
    "A practical first step is to use available data to identify groups at higher risk for hesitancy. From there, programs can:\n",
    "\n",
    "* Tune messages to address local concerns (from safety, to side effects, to speed of development).\n",
    "* Involve local health networks to disemminate information (community health workers, level 1 and level 2 facilities).\n",
    "* Improve convenience through the use of mobile clinics, mass vaccination drives.\n",
    "* Share data on safety monitoring and real‑world effectiveness.\n",
    "* Track sentiment over time and use it to alter approaches before another epidemic or pandemic occurs.\n",
    "\n",
    "By combining behavioral insight with targeted communication and easier access, public health practitioners can reduce vaccine gaps, and be better prepared when the next emerging infection appears.\n",
    "\n",
    "### Objective\n",
    "The goal of this project is to create a model that can predict seasonal flu vaccine uptake based on a person's background and behavioral patterns. The project will be deemed a success when a model with the highest accuracy is developed.\n",
    "\n",
    "### Project Pipeline\n",
    "This outlines the processes to be undertaken in this project. They are:\n",
    "1. Loading the data\n",
    "2. Exploratory data analysis\n",
    "3. Data processing\n",
    "4. Modelling\n",
    "5. Evaluation\n",
    "6. Recommendations"
   ]
  },
  {
   "cell_type": "markdown",
   "id": "e3e9d27e",
   "metadata": {},
   "source": [
    "### 1. Loading the Data\n",
    "#### Importing relevant Libraries and loading Datasets"
   ]
  },
  {
   "cell_type": "code",
   "execution_count": 1,
   "id": "b724b0e1",
   "metadata": {},
   "outputs": [],
   "source": [
    "# importing relevant libraries\n",
    "import pandas as pd\n",
    "import numpy as np\n",
    "import matplotlib.pyplot as plt\n",
    "import seaborn as sns\n",
    "from sklearn.model_selection import train_test_split,cross_val_score,GridSearchCV\n",
    "from sklearn.impute import SimpleImputer\n",
    "from sklearn.preprocessing import OrdinalEncoder\n",
    "from sklearn.linear_model import LogisticRegression\n",
    "from sklearn.metrics import accuracy_score,roc_auc_score,ConfusionMatrixDisplay,classification_report\n",
    "from sklearn.ensemble import RandomForestClassifier\n",
    "from xgboost import XGBClassifier\n",
    "from sklearn.feature_selection import RFECV\n",
    "from sklearn.ensemble import GradientBoostingClassifier\n",
    "from sklearn.preprocessing import OneHotEncoder\n",
    "from sklearn.compose import ColumnTransformer\n",
    "import warnings\n",
    "warnings.filterwarnings('ignore')\n",
    "import joblib"
   ]
  },
  {
   "cell_type": "code",
   "execution_count": 3,
   "id": "4a0d60d5",
   "metadata": {},
   "outputs": [],
   "source": [
    "# loading the dataset\n",
    "test = pd.read_csv('test_set_features.csv')\n",
    "features = pd.read_csv('training_set_features.csv')\n",
    "labels = pd.read_csv('training_set_labels.csv')\n"
   ]
  },
  {
   "cell_type": "markdown",
   "id": "83e95f7c",
   "metadata": {},
   "source": [
    "### 2. Exploratory Data Analysis (EDA)"
   ]
  },
  {
   "cell_type": "code",
   "execution_count": null,
   "id": "3e7966a7",
   "metadata": {},
   "outputs": [
    {
     "data": {
      "application/vnd.microsoft.datawrangler.viewer.v0+json": {
       "columns": [
        {
         "name": "index",
         "rawType": "int64",
         "type": "integer"
        },
        {
         "name": "respondent_id",
         "rawType": "int64",
         "type": "integer"
        },
        {
         "name": "h1n1_vaccine",
         "rawType": "int64",
         "type": "integer"
        },
        {
         "name": "seasonal_vaccine",
         "rawType": "int64",
         "type": "integer"
        }
       ],
       "ref": "c7dc3610-8957-4f6c-8ce5-555577400417",
       "rows": [
        [
         "0",
         "0",
         "0",
         "0"
        ],
        [
         "1",
         "1",
         "0",
         "1"
        ],
        [
         "2",
         "2",
         "0",
         "0"
        ],
        [
         "3",
         "3",
         "0",
         "1"
        ],
        [
         "4",
         "4",
         "0",
         "0"
        ]
       ],
       "shape": {
        "columns": 3,
        "rows": 5
       }
      },
      "text/html": [
       "<div>\n",
       "<style scoped>\n",
       "    .dataframe tbody tr th:only-of-type {\n",
       "        vertical-align: middle;\n",
       "    }\n",
       "\n",
       "    .dataframe tbody tr th {\n",
       "        vertical-align: top;\n",
       "    }\n",
       "\n",
       "    .dataframe thead th {\n",
       "        text-align: right;\n",
       "    }\n",
       "</style>\n",
       "<table border=\"1\" class=\"dataframe\">\n",
       "  <thead>\n",
       "    <tr style=\"text-align: right;\">\n",
       "      <th></th>\n",
       "      <th>respondent_id</th>\n",
       "      <th>h1n1_vaccine</th>\n",
       "      <th>seasonal_vaccine</th>\n",
       "    </tr>\n",
       "  </thead>\n",
       "  <tbody>\n",
       "    <tr>\n",
       "      <th>0</th>\n",
       "      <td>0</td>\n",
       "      <td>0</td>\n",
       "      <td>0</td>\n",
       "    </tr>\n",
       "    <tr>\n",
       "      <th>1</th>\n",
       "      <td>1</td>\n",
       "      <td>0</td>\n",
       "      <td>1</td>\n",
       "    </tr>\n",
       "    <tr>\n",
       "      <th>2</th>\n",
       "      <td>2</td>\n",
       "      <td>0</td>\n",
       "      <td>0</td>\n",
       "    </tr>\n",
       "    <tr>\n",
       "      <th>3</th>\n",
       "      <td>3</td>\n",
       "      <td>0</td>\n",
       "      <td>1</td>\n",
       "    </tr>\n",
       "    <tr>\n",
       "      <th>4</th>\n",
       "      <td>4</td>\n",
       "      <td>0</td>\n",
       "      <td>0</td>\n",
       "    </tr>\n",
       "  </tbody>\n",
       "</table>\n",
       "</div>"
      ],
      "text/plain": [
       "   respondent_id  h1n1_vaccine  seasonal_vaccine\n",
       "0              0             0                 0\n",
       "1              1             0                 1\n",
       "2              2             0                 0\n",
       "3              3             0                 1\n",
       "4              4             0                 0"
      ]
     },
     "execution_count": 40,
     "metadata": {},
     "output_type": "execute_result"
    }
   ],
   "source": [
    "# viewing the first five rows of the datasets\n",
    "test.head()\n",
    "features.head()\n",
    "labels.head()"
   ]
  },
  {
   "cell_type": "markdown",
   "id": "bf27c6d2",
   "metadata": {},
   "source": [
    "It is clear that all files share a similar \"respondent_id\" column. I will therefore merge the two training dataframes."
   ]
  },
  {
   "cell_type": "code",
   "execution_count": null,
   "id": "572d2434",
   "metadata": {},
   "outputs": [
    {
     "data": {
      "application/vnd.microsoft.datawrangler.viewer.v0+json": {
       "columns": [
        {
         "name": "index",
         "rawType": "int64",
         "type": "integer"
        },
        {
         "name": "respondent_id",
         "rawType": "int64",
         "type": "integer"
        },
        {
         "name": "h1n1_concern",
         "rawType": "float64",
         "type": "float"
        },
        {
         "name": "h1n1_knowledge",
         "rawType": "float64",
         "type": "float"
        },
        {
         "name": "behavioral_antiviral_meds",
         "rawType": "float64",
         "type": "float"
        },
        {
         "name": "behavioral_avoidance",
         "rawType": "float64",
         "type": "float"
        },
        {
         "name": "behavioral_face_mask",
         "rawType": "float64",
         "type": "float"
        },
        {
         "name": "behavioral_wash_hands",
         "rawType": "float64",
         "type": "float"
        },
        {
         "name": "behavioral_large_gatherings",
         "rawType": "float64",
         "type": "float"
        },
        {
         "name": "behavioral_outside_home",
         "rawType": "float64",
         "type": "float"
        },
        {
         "name": "behavioral_touch_face",
         "rawType": "float64",
         "type": "float"
        },
        {
         "name": "doctor_recc_h1n1",
         "rawType": "float64",
         "type": "float"
        },
        {
         "name": "doctor_recc_seasonal",
         "rawType": "float64",
         "type": "float"
        },
        {
         "name": "chronic_med_condition",
         "rawType": "float64",
         "type": "float"
        },
        {
         "name": "child_under_6_months",
         "rawType": "float64",
         "type": "float"
        },
        {
         "name": "health_worker",
         "rawType": "float64",
         "type": "float"
        },
        {
         "name": "health_insurance",
         "rawType": "float64",
         "type": "float"
        },
        {
         "name": "opinion_h1n1_vacc_effective",
         "rawType": "float64",
         "type": "float"
        },
        {
         "name": "opinion_h1n1_risk",
         "rawType": "float64",
         "type": "float"
        },
        {
         "name": "opinion_h1n1_sick_from_vacc",
         "rawType": "float64",
         "type": "float"
        },
        {
         "name": "opinion_seas_vacc_effective",
         "rawType": "float64",
         "type": "float"
        },
        {
         "name": "opinion_seas_risk",
         "rawType": "float64",
         "type": "float"
        },
        {
         "name": "opinion_seas_sick_from_vacc",
         "rawType": "float64",
         "type": "float"
        },
        {
         "name": "age_group",
         "rawType": "object",
         "type": "string"
        },
        {
         "name": "education",
         "rawType": "object",
         "type": "string"
        },
        {
         "name": "race",
         "rawType": "object",
         "type": "string"
        },
        {
         "name": "sex",
         "rawType": "object",
         "type": "string"
        },
        {
         "name": "income_poverty",
         "rawType": "object",
         "type": "string"
        },
        {
         "name": "marital_status",
         "rawType": "object",
         "type": "string"
        },
        {
         "name": "rent_or_own",
         "rawType": "object",
         "type": "string"
        },
        {
         "name": "employment_status",
         "rawType": "object",
         "type": "string"
        },
        {
         "name": "hhs_geo_region",
         "rawType": "object",
         "type": "string"
        },
        {
         "name": "census_msa",
         "rawType": "object",
         "type": "string"
        },
        {
         "name": "household_adults",
         "rawType": "float64",
         "type": "float"
        },
        {
         "name": "household_children",
         "rawType": "float64",
         "type": "float"
        },
        {
         "name": "employment_industry",
         "rawType": "object",
         "type": "unknown"
        },
        {
         "name": "employment_occupation",
         "rawType": "object",
         "type": "unknown"
        },
        {
         "name": "h1n1_vaccine",
         "rawType": "int64",
         "type": "integer"
        },
        {
         "name": "seasonal_vaccine",
         "rawType": "int64",
         "type": "integer"
        }
       ],
       "ref": "2584fc68-6dfb-4d0a-9b4d-b871519d2e25",
       "rows": [
        [
         "0",
         "0",
         "1.0",
         "0.0",
         "0.0",
         "0.0",
         "0.0",
         "0.0",
         "0.0",
         "1.0",
         "1.0",
         "0.0",
         "0.0",
         "0.0",
         "0.0",
         "0.0",
         "1.0",
         "3.0",
         "1.0",
         "2.0",
         "2.0",
         "1.0",
         "2.0",
         "55 - 64 Years",
         "< 12 Years",
         "White",
         "Female",
         "Below Poverty",
         "Not Married",
         "Own",
         "Not in Labor Force",
         "oxchjgsf",
         "Non-MSA",
         "0.0",
         "0.0",
         null,
         null,
         "0",
         "0"
        ],
        [
         "1",
         "1",
         "3.0",
         "2.0",
         "0.0",
         "1.0",
         "0.0",
         "1.0",
         "0.0",
         "1.0",
         "1.0",
         "0.0",
         "0.0",
         "0.0",
         "0.0",
         "0.0",
         "1.0",
         "5.0",
         "4.0",
         "4.0",
         "4.0",
         "2.0",
         "4.0",
         "35 - 44 Years",
         "12 Years",
         "White",
         "Male",
         "Below Poverty",
         "Not Married",
         "Rent",
         "Employed",
         "bhuqouqj",
         "MSA, Not Principle  City",
         "0.0",
         "0.0",
         "pxcmvdjn",
         "xgwztkwe",
         "0",
         "1"
        ],
        [
         "2",
         "2",
         "1.0",
         "1.0",
         "0.0",
         "1.0",
         "0.0",
         "0.0",
         "0.0",
         "0.0",
         "0.0",
         null,
         null,
         "1.0",
         "0.0",
         "0.0",
         null,
         "3.0",
         "1.0",
         "1.0",
         "4.0",
         "1.0",
         "2.0",
         "18 - 34 Years",
         "College Graduate",
         "White",
         "Male",
         "<= $75,000, Above Poverty",
         "Not Married",
         "Own",
         "Employed",
         "qufhixun",
         "MSA, Not Principle  City",
         "2.0",
         "0.0",
         "rucpziij",
         "xtkaffoo",
         "0",
         "0"
        ],
        [
         "3",
         "3",
         "1.0",
         "1.0",
         "0.0",
         "1.0",
         "0.0",
         "1.0",
         "1.0",
         "0.0",
         "0.0",
         "0.0",
         "1.0",
         "1.0",
         "0.0",
         "0.0",
         null,
         "3.0",
         "3.0",
         "5.0",
         "5.0",
         "4.0",
         "1.0",
         "65+ Years",
         "12 Years",
         "White",
         "Female",
         "Below Poverty",
         "Not Married",
         "Rent",
         "Not in Labor Force",
         "lrircsnp",
         "MSA, Principle City",
         "0.0",
         "0.0",
         null,
         null,
         "0",
         "1"
        ],
        [
         "4",
         "4",
         "2.0",
         "1.0",
         "0.0",
         "1.0",
         "0.0",
         "1.0",
         "1.0",
         "0.0",
         "1.0",
         "0.0",
         "0.0",
         "0.0",
         "0.0",
         "0.0",
         null,
         "3.0",
         "3.0",
         "2.0",
         "3.0",
         "1.0",
         "4.0",
         "45 - 54 Years",
         "Some College",
         "White",
         "Female",
         "<= $75,000, Above Poverty",
         "Married",
         "Own",
         "Employed",
         "qufhixun",
         "MSA, Not Principle  City",
         "1.0",
         "0.0",
         "wxleyezf",
         "emcorrxb",
         "0",
         "0"
        ]
       ],
       "shape": {
        "columns": 38,
        "rows": 5
       }
      },
      "text/html": [
       "<div>\n",
       "<style scoped>\n",
       "    .dataframe tbody tr th:only-of-type {\n",
       "        vertical-align: middle;\n",
       "    }\n",
       "\n",
       "    .dataframe tbody tr th {\n",
       "        vertical-align: top;\n",
       "    }\n",
       "\n",
       "    .dataframe thead th {\n",
       "        text-align: right;\n",
       "    }\n",
       "</style>\n",
       "<table border=\"1\" class=\"dataframe\">\n",
       "  <thead>\n",
       "    <tr style=\"text-align: right;\">\n",
       "      <th></th>\n",
       "      <th>respondent_id</th>\n",
       "      <th>h1n1_concern</th>\n",
       "      <th>h1n1_knowledge</th>\n",
       "      <th>behavioral_antiviral_meds</th>\n",
       "      <th>behavioral_avoidance</th>\n",
       "      <th>behavioral_face_mask</th>\n",
       "      <th>behavioral_wash_hands</th>\n",
       "      <th>behavioral_large_gatherings</th>\n",
       "      <th>behavioral_outside_home</th>\n",
       "      <th>behavioral_touch_face</th>\n",
       "      <th>...</th>\n",
       "      <th>rent_or_own</th>\n",
       "      <th>employment_status</th>\n",
       "      <th>hhs_geo_region</th>\n",
       "      <th>census_msa</th>\n",
       "      <th>household_adults</th>\n",
       "      <th>household_children</th>\n",
       "      <th>employment_industry</th>\n",
       "      <th>employment_occupation</th>\n",
       "      <th>h1n1_vaccine</th>\n",
       "      <th>seasonal_vaccine</th>\n",
       "    </tr>\n",
       "  </thead>\n",
       "  <tbody>\n",
       "    <tr>\n",
       "      <th>0</th>\n",
       "      <td>0</td>\n",
       "      <td>1.0</td>\n",
       "      <td>0.0</td>\n",
       "      <td>0.0</td>\n",
       "      <td>0.0</td>\n",
       "      <td>0.0</td>\n",
       "      <td>0.0</td>\n",
       "      <td>0.0</td>\n",
       "      <td>1.0</td>\n",
       "      <td>1.0</td>\n",
       "      <td>...</td>\n",
       "      <td>Own</td>\n",
       "      <td>Not in Labor Force</td>\n",
       "      <td>oxchjgsf</td>\n",
       "      <td>Non-MSA</td>\n",
       "      <td>0.0</td>\n",
       "      <td>0.0</td>\n",
       "      <td>NaN</td>\n",
       "      <td>NaN</td>\n",
       "      <td>0</td>\n",
       "      <td>0</td>\n",
       "    </tr>\n",
       "    <tr>\n",
       "      <th>1</th>\n",
       "      <td>1</td>\n",
       "      <td>3.0</td>\n",
       "      <td>2.0</td>\n",
       "      <td>0.0</td>\n",
       "      <td>1.0</td>\n",
       "      <td>0.0</td>\n",
       "      <td>1.0</td>\n",
       "      <td>0.0</td>\n",
       "      <td>1.0</td>\n",
       "      <td>1.0</td>\n",
       "      <td>...</td>\n",
       "      <td>Rent</td>\n",
       "      <td>Employed</td>\n",
       "      <td>bhuqouqj</td>\n",
       "      <td>MSA, Not Principle  City</td>\n",
       "      <td>0.0</td>\n",
       "      <td>0.0</td>\n",
       "      <td>pxcmvdjn</td>\n",
       "      <td>xgwztkwe</td>\n",
       "      <td>0</td>\n",
       "      <td>1</td>\n",
       "    </tr>\n",
       "    <tr>\n",
       "      <th>2</th>\n",
       "      <td>2</td>\n",
       "      <td>1.0</td>\n",
       "      <td>1.0</td>\n",
       "      <td>0.0</td>\n",
       "      <td>1.0</td>\n",
       "      <td>0.0</td>\n",
       "      <td>0.0</td>\n",
       "      <td>0.0</td>\n",
       "      <td>0.0</td>\n",
       "      <td>0.0</td>\n",
       "      <td>...</td>\n",
       "      <td>Own</td>\n",
       "      <td>Employed</td>\n",
       "      <td>qufhixun</td>\n",
       "      <td>MSA, Not Principle  City</td>\n",
       "      <td>2.0</td>\n",
       "      <td>0.0</td>\n",
       "      <td>rucpziij</td>\n",
       "      <td>xtkaffoo</td>\n",
       "      <td>0</td>\n",
       "      <td>0</td>\n",
       "    </tr>\n",
       "    <tr>\n",
       "      <th>3</th>\n",
       "      <td>3</td>\n",
       "      <td>1.0</td>\n",
       "      <td>1.0</td>\n",
       "      <td>0.0</td>\n",
       "      <td>1.0</td>\n",
       "      <td>0.0</td>\n",
       "      <td>1.0</td>\n",
       "      <td>1.0</td>\n",
       "      <td>0.0</td>\n",
       "      <td>0.0</td>\n",
       "      <td>...</td>\n",
       "      <td>Rent</td>\n",
       "      <td>Not in Labor Force</td>\n",
       "      <td>lrircsnp</td>\n",
       "      <td>MSA, Principle City</td>\n",
       "      <td>0.0</td>\n",
       "      <td>0.0</td>\n",
       "      <td>NaN</td>\n",
       "      <td>NaN</td>\n",
       "      <td>0</td>\n",
       "      <td>1</td>\n",
       "    </tr>\n",
       "    <tr>\n",
       "      <th>4</th>\n",
       "      <td>4</td>\n",
       "      <td>2.0</td>\n",
       "      <td>1.0</td>\n",
       "      <td>0.0</td>\n",
       "      <td>1.0</td>\n",
       "      <td>0.0</td>\n",
       "      <td>1.0</td>\n",
       "      <td>1.0</td>\n",
       "      <td>0.0</td>\n",
       "      <td>1.0</td>\n",
       "      <td>...</td>\n",
       "      <td>Own</td>\n",
       "      <td>Employed</td>\n",
       "      <td>qufhixun</td>\n",
       "      <td>MSA, Not Principle  City</td>\n",
       "      <td>1.0</td>\n",
       "      <td>0.0</td>\n",
       "      <td>wxleyezf</td>\n",
       "      <td>emcorrxb</td>\n",
       "      <td>0</td>\n",
       "      <td>0</td>\n",
       "    </tr>\n",
       "  </tbody>\n",
       "</table>\n",
       "<p>5 rows × 38 columns</p>\n",
       "</div>"
      ],
      "text/plain": [
       "   respondent_id  h1n1_concern  h1n1_knowledge  behavioral_antiviral_meds  \\\n",
       "0              0           1.0             0.0                        0.0   \n",
       "1              1           3.0             2.0                        0.0   \n",
       "2              2           1.0             1.0                        0.0   \n",
       "3              3           1.0             1.0                        0.0   \n",
       "4              4           2.0             1.0                        0.0   \n",
       "\n",
       "   behavioral_avoidance  behavioral_face_mask  behavioral_wash_hands  \\\n",
       "0                   0.0                   0.0                    0.0   \n",
       "1                   1.0                   0.0                    1.0   \n",
       "2                   1.0                   0.0                    0.0   \n",
       "3                   1.0                   0.0                    1.0   \n",
       "4                   1.0                   0.0                    1.0   \n",
       "\n",
       "   behavioral_large_gatherings  behavioral_outside_home  \\\n",
       "0                          0.0                      1.0   \n",
       "1                          0.0                      1.0   \n",
       "2                          0.0                      0.0   \n",
       "3                          1.0                      0.0   \n",
       "4                          1.0                      0.0   \n",
       "\n",
       "   behavioral_touch_face  ...  rent_or_own   employment_status  \\\n",
       "0                    1.0  ...          Own  Not in Labor Force   \n",
       "1                    1.0  ...         Rent            Employed   \n",
       "2                    0.0  ...          Own            Employed   \n",
       "3                    0.0  ...         Rent  Not in Labor Force   \n",
       "4                    1.0  ...          Own            Employed   \n",
       "\n",
       "   hhs_geo_region                census_msa  household_adults  \\\n",
       "0        oxchjgsf                   Non-MSA               0.0   \n",
       "1        bhuqouqj  MSA, Not Principle  City               0.0   \n",
       "2        qufhixun  MSA, Not Principle  City               2.0   \n",
       "3        lrircsnp       MSA, Principle City               0.0   \n",
       "4        qufhixun  MSA, Not Principle  City               1.0   \n",
       "\n",
       "   household_children  employment_industry  employment_occupation  \\\n",
       "0                 0.0                  NaN                    NaN   \n",
       "1                 0.0             pxcmvdjn               xgwztkwe   \n",
       "2                 0.0             rucpziij               xtkaffoo   \n",
       "3                 0.0                  NaN                    NaN   \n",
       "4                 0.0             wxleyezf               emcorrxb   \n",
       "\n",
       "   h1n1_vaccine  seasonal_vaccine  \n",
       "0             0                 0  \n",
       "1             0                 1  \n",
       "2             0                 0  \n",
       "3             0                 1  \n",
       "4             0                 0  \n",
       "\n",
       "[5 rows x 38 columns]"
      ]
     },
     "execution_count": 41,
     "metadata": {},
     "output_type": "execute_result"
    }
   ],
   "source": [
    "# joining the two dataframes\n",
    "data = pd.merge(features, labels, on='respondent_id')\n",
    "data.head()"
   ]
  },
  {
   "cell_type": "code",
   "execution_count": null,
   "id": "92996258",
   "metadata": {},
   "outputs": [
    {
     "data": {
      "text/plain": [
       "(26707, 38)"
      ]
     },
     "execution_count": 42,
     "metadata": {},
     "output_type": "execute_result"
    }
   ],
   "source": [
    "# viewing number of rows and columns\n",
    "data.shape"
   ]
  },
  {
   "cell_type": "code",
   "execution_count": null,
   "id": "ddf54807",
   "metadata": {},
   "outputs": [
    {
     "data": {
      "application/vnd.microsoft.datawrangler.viewer.v0+json": {
       "columns": [
        {
         "name": "index",
         "rawType": "object",
         "type": "string"
        },
        {
         "name": "0",
         "rawType": "object",
         "type": "unknown"
        }
       ],
       "ref": "332a6fd8-1cfd-4ac1-9de9-695b0ccb17d0",
       "rows": [
        [
         "respondent_id",
         "int64"
        ],
        [
         "h1n1_concern",
         "float64"
        ],
        [
         "h1n1_knowledge",
         "float64"
        ],
        [
         "behavioral_antiviral_meds",
         "float64"
        ],
        [
         "behavioral_avoidance",
         "float64"
        ],
        [
         "behavioral_face_mask",
         "float64"
        ],
        [
         "behavioral_wash_hands",
         "float64"
        ],
        [
         "behavioral_large_gatherings",
         "float64"
        ],
        [
         "behavioral_outside_home",
         "float64"
        ],
        [
         "behavioral_touch_face",
         "float64"
        ],
        [
         "doctor_recc_h1n1",
         "float64"
        ],
        [
         "doctor_recc_seasonal",
         "float64"
        ],
        [
         "chronic_med_condition",
         "float64"
        ],
        [
         "child_under_6_months",
         "float64"
        ],
        [
         "health_worker",
         "float64"
        ],
        [
         "health_insurance",
         "float64"
        ],
        [
         "opinion_h1n1_vacc_effective",
         "float64"
        ],
        [
         "opinion_h1n1_risk",
         "float64"
        ],
        [
         "opinion_h1n1_sick_from_vacc",
         "float64"
        ],
        [
         "opinion_seas_vacc_effective",
         "float64"
        ],
        [
         "opinion_seas_risk",
         "float64"
        ],
        [
         "opinion_seas_sick_from_vacc",
         "float64"
        ],
        [
         "age_group",
         "object"
        ],
        [
         "education",
         "object"
        ],
        [
         "race",
         "object"
        ],
        [
         "sex",
         "object"
        ],
        [
         "income_poverty",
         "object"
        ],
        [
         "marital_status",
         "object"
        ],
        [
         "rent_or_own",
         "object"
        ],
        [
         "employment_status",
         "object"
        ],
        [
         "hhs_geo_region",
         "object"
        ],
        [
         "census_msa",
         "object"
        ],
        [
         "household_adults",
         "float64"
        ],
        [
         "household_children",
         "float64"
        ],
        [
         "employment_industry",
         "object"
        ],
        [
         "employment_occupation",
         "object"
        ],
        [
         "h1n1_vaccine",
         "int64"
        ],
        [
         "seasonal_vaccine",
         "int64"
        ]
       ],
       "shape": {
        "columns": 1,
        "rows": 38
       }
      },
      "text/plain": [
       "respondent_id                    int64\n",
       "h1n1_concern                   float64\n",
       "h1n1_knowledge                 float64\n",
       "behavioral_antiviral_meds      float64\n",
       "behavioral_avoidance           float64\n",
       "behavioral_face_mask           float64\n",
       "behavioral_wash_hands          float64\n",
       "behavioral_large_gatherings    float64\n",
       "behavioral_outside_home        float64\n",
       "behavioral_touch_face          float64\n",
       "doctor_recc_h1n1               float64\n",
       "doctor_recc_seasonal           float64\n",
       "chronic_med_condition          float64\n",
       "child_under_6_months           float64\n",
       "health_worker                  float64\n",
       "health_insurance               float64\n",
       "opinion_h1n1_vacc_effective    float64\n",
       "opinion_h1n1_risk              float64\n",
       "opinion_h1n1_sick_from_vacc    float64\n",
       "opinion_seas_vacc_effective    float64\n",
       "opinion_seas_risk              float64\n",
       "opinion_seas_sick_from_vacc    float64\n",
       "age_group                       object\n",
       "education                       object\n",
       "race                            object\n",
       "sex                             object\n",
       "income_poverty                  object\n",
       "marital_status                  object\n",
       "rent_or_own                     object\n",
       "employment_status               object\n",
       "hhs_geo_region                  object\n",
       "census_msa                      object\n",
       "household_adults               float64\n",
       "household_children             float64\n",
       "employment_industry             object\n",
       "employment_occupation           object\n",
       "h1n1_vaccine                     int64\n",
       "seasonal_vaccine                 int64\n",
       "dtype: object"
      ]
     },
     "execution_count": 43,
     "metadata": {},
     "output_type": "execute_result"
    }
   ],
   "source": [
    "# viewing the datatypes\n",
    "data.dtypes"
   ]
  },
  {
   "cell_type": "code",
   "execution_count": null,
   "id": "1b8829bd",
   "metadata": {},
   "outputs": [
    {
     "data": {
      "application/vnd.microsoft.datawrangler.viewer.v0+json": {
       "columns": [
        {
         "name": "index",
         "rawType": "object",
         "type": "string"
        },
        {
         "name": "respondent_id",
         "rawType": "float64",
         "type": "float"
        },
        {
         "name": "h1n1_concern",
         "rawType": "float64",
         "type": "float"
        },
        {
         "name": "h1n1_knowledge",
         "rawType": "float64",
         "type": "float"
        },
        {
         "name": "behavioral_antiviral_meds",
         "rawType": "float64",
         "type": "float"
        },
        {
         "name": "behavioral_avoidance",
         "rawType": "float64",
         "type": "float"
        },
        {
         "name": "behavioral_face_mask",
         "rawType": "float64",
         "type": "float"
        },
        {
         "name": "behavioral_wash_hands",
         "rawType": "float64",
         "type": "float"
        },
        {
         "name": "behavioral_large_gatherings",
         "rawType": "float64",
         "type": "float"
        },
        {
         "name": "behavioral_outside_home",
         "rawType": "float64",
         "type": "float"
        },
        {
         "name": "behavioral_touch_face",
         "rawType": "float64",
         "type": "float"
        },
        {
         "name": "doctor_recc_h1n1",
         "rawType": "float64",
         "type": "float"
        },
        {
         "name": "doctor_recc_seasonal",
         "rawType": "float64",
         "type": "float"
        },
        {
         "name": "chronic_med_condition",
         "rawType": "float64",
         "type": "float"
        },
        {
         "name": "child_under_6_months",
         "rawType": "float64",
         "type": "float"
        },
        {
         "name": "health_worker",
         "rawType": "float64",
         "type": "float"
        },
        {
         "name": "health_insurance",
         "rawType": "float64",
         "type": "float"
        },
        {
         "name": "opinion_h1n1_vacc_effective",
         "rawType": "float64",
         "type": "float"
        },
        {
         "name": "opinion_h1n1_risk",
         "rawType": "float64",
         "type": "float"
        },
        {
         "name": "opinion_h1n1_sick_from_vacc",
         "rawType": "float64",
         "type": "float"
        },
        {
         "name": "opinion_seas_vacc_effective",
         "rawType": "float64",
         "type": "float"
        },
        {
         "name": "opinion_seas_risk",
         "rawType": "float64",
         "type": "float"
        },
        {
         "name": "opinion_seas_sick_from_vacc",
         "rawType": "float64",
         "type": "float"
        },
        {
         "name": "household_adults",
         "rawType": "float64",
         "type": "float"
        },
        {
         "name": "household_children",
         "rawType": "float64",
         "type": "float"
        },
        {
         "name": "h1n1_vaccine",
         "rawType": "float64",
         "type": "float"
        },
        {
         "name": "seasonal_vaccine",
         "rawType": "float64",
         "type": "float"
        }
       ],
       "ref": "b947e16c-b0d8-482e-a8d9-138ad4389dcd",
       "rows": [
        [
         "count",
         "26707.0",
         "26615.0",
         "26591.0",
         "26636.0",
         "26499.0",
         "26688.0",
         "26665.0",
         "26620.0",
         "26625.0",
         "26579.0",
         "24547.0",
         "24547.0",
         "25736.0",
         "25887.0",
         "25903.0",
         "14433.0",
         "26316.0",
         "26319.0",
         "26312.0",
         "26245.0",
         "26193.0",
         "26170.0",
         "26458.0",
         "26458.0",
         "26707.0",
         "26707.0"
        ],
        [
         "mean",
         "13353.0",
         "1.6184858162690212",
         "1.2625324357865444",
         "0.048843670220753865",
         "0.7256122872561229",
         "0.06898231414868106",
         "0.825614100881305",
         "0.3586401202103681",
         "0.33731455399061033",
         "0.6772640054178111",
         "0.2203120544262028",
         "0.32973479447590337",
         "0.28326080198943115",
         "0.0825897168462935",
         "0.111917538509053",
         "0.8797200859142243",
         "3.85062319501444",
         "2.3425662069227555",
         "2.357669504408635",
         "4.025985902076586",
         "2.719161608063223",
         "2.1181123423767674",
         "0.8864993574722201",
         "0.5345831128581148",
         "0.2124536638334519",
         "0.4656082674954132"
        ],
        [
         "std",
         "7709.791155839869",
         "0.9103106893546644",
         "0.6181491336862217",
         "0.21554514688375573",
         "0.44621363670282804",
         "0.2534288086212143",
         "0.37944809516832506",
         "0.47961028500620967",
         "0.47280211674064915",
         "0.4675314923973022",
         "0.4144655005809335",
         "0.4701263273728405",
         "0.4505907334523557",
         "0.27526638467206027",
         "0.315271058481258",
         "0.32529984346987095",
         "1.0074357743449702",
         "1.2855392866937079",
         "1.362765917171538",
         "1.08656490358196",
         "1.3850551813594099",
         "1.3329499250471024",
         "0.7534215353448208",
         "0.9281733165470456",
         "0.40905179342904574",
         "0.49882514535479133"
        ],
        [
         "min",
         "0.0",
         "0.0",
         "0.0",
         "0.0",
         "0.0",
         "0.0",
         "0.0",
         "0.0",
         "0.0",
         "0.0",
         "0.0",
         "0.0",
         "0.0",
         "0.0",
         "0.0",
         "0.0",
         "1.0",
         "1.0",
         "1.0",
         "1.0",
         "1.0",
         "1.0",
         "0.0",
         "0.0",
         "0.0",
         "0.0"
        ],
        [
         "25%",
         "6676.5",
         "1.0",
         "1.0",
         "0.0",
         "0.0",
         "0.0",
         "1.0",
         "0.0",
         "0.0",
         "0.0",
         "0.0",
         "0.0",
         "0.0",
         "0.0",
         "0.0",
         "1.0",
         "3.0",
         "1.0",
         "1.0",
         "4.0",
         "2.0",
         "1.0",
         "0.0",
         "0.0",
         "0.0",
         "0.0"
        ],
        [
         "50%",
         "13353.0",
         "2.0",
         "1.0",
         "0.0",
         "1.0",
         "0.0",
         "1.0",
         "0.0",
         "0.0",
         "1.0",
         "0.0",
         "0.0",
         "0.0",
         "0.0",
         "0.0",
         "1.0",
         "4.0",
         "2.0",
         "2.0",
         "4.0",
         "2.0",
         "2.0",
         "1.0",
         "0.0",
         "0.0",
         "0.0"
        ],
        [
         "75%",
         "20029.5",
         "2.0",
         "2.0",
         "0.0",
         "1.0",
         "0.0",
         "1.0",
         "1.0",
         "1.0",
         "1.0",
         "0.0",
         "1.0",
         "1.0",
         "0.0",
         "0.0",
         "1.0",
         "5.0",
         "4.0",
         "4.0",
         "5.0",
         "4.0",
         "4.0",
         "1.0",
         "1.0",
         "0.0",
         "1.0"
        ],
        [
         "max",
         "26706.0",
         "3.0",
         "2.0",
         "1.0",
         "1.0",
         "1.0",
         "1.0",
         "1.0",
         "1.0",
         "1.0",
         "1.0",
         "1.0",
         "1.0",
         "1.0",
         "1.0",
         "1.0",
         "5.0",
         "5.0",
         "5.0",
         "5.0",
         "5.0",
         "5.0",
         "3.0",
         "3.0",
         "1.0",
         "1.0"
        ]
       ],
       "shape": {
        "columns": 26,
        "rows": 8
       }
      },
      "text/html": [
       "<div>\n",
       "<style scoped>\n",
       "    .dataframe tbody tr th:only-of-type {\n",
       "        vertical-align: middle;\n",
       "    }\n",
       "\n",
       "    .dataframe tbody tr th {\n",
       "        vertical-align: top;\n",
       "    }\n",
       "\n",
       "    .dataframe thead th {\n",
       "        text-align: right;\n",
       "    }\n",
       "</style>\n",
       "<table border=\"1\" class=\"dataframe\">\n",
       "  <thead>\n",
       "    <tr style=\"text-align: right;\">\n",
       "      <th></th>\n",
       "      <th>respondent_id</th>\n",
       "      <th>h1n1_concern</th>\n",
       "      <th>h1n1_knowledge</th>\n",
       "      <th>behavioral_antiviral_meds</th>\n",
       "      <th>behavioral_avoidance</th>\n",
       "      <th>behavioral_face_mask</th>\n",
       "      <th>behavioral_wash_hands</th>\n",
       "      <th>behavioral_large_gatherings</th>\n",
       "      <th>behavioral_outside_home</th>\n",
       "      <th>behavioral_touch_face</th>\n",
       "      <th>...</th>\n",
       "      <th>opinion_h1n1_vacc_effective</th>\n",
       "      <th>opinion_h1n1_risk</th>\n",
       "      <th>opinion_h1n1_sick_from_vacc</th>\n",
       "      <th>opinion_seas_vacc_effective</th>\n",
       "      <th>opinion_seas_risk</th>\n",
       "      <th>opinion_seas_sick_from_vacc</th>\n",
       "      <th>household_adults</th>\n",
       "      <th>household_children</th>\n",
       "      <th>h1n1_vaccine</th>\n",
       "      <th>seasonal_vaccine</th>\n",
       "    </tr>\n",
       "  </thead>\n",
       "  <tbody>\n",
       "    <tr>\n",
       "      <th>count</th>\n",
       "      <td>26707.000000</td>\n",
       "      <td>26615.000000</td>\n",
       "      <td>26591.000000</td>\n",
       "      <td>26636.000000</td>\n",
       "      <td>26499.000000</td>\n",
       "      <td>26688.000000</td>\n",
       "      <td>26665.000000</td>\n",
       "      <td>26620.00000</td>\n",
       "      <td>26625.000000</td>\n",
       "      <td>26579.000000</td>\n",
       "      <td>...</td>\n",
       "      <td>26316.000000</td>\n",
       "      <td>26319.000000</td>\n",
       "      <td>26312.000000</td>\n",
       "      <td>26245.000000</td>\n",
       "      <td>26193.000000</td>\n",
       "      <td>26170.000000</td>\n",
       "      <td>26458.000000</td>\n",
       "      <td>26458.000000</td>\n",
       "      <td>26707.000000</td>\n",
       "      <td>26707.000000</td>\n",
       "    </tr>\n",
       "    <tr>\n",
       "      <th>mean</th>\n",
       "      <td>13353.000000</td>\n",
       "      <td>1.618486</td>\n",
       "      <td>1.262532</td>\n",
       "      <td>0.048844</td>\n",
       "      <td>0.725612</td>\n",
       "      <td>0.068982</td>\n",
       "      <td>0.825614</td>\n",
       "      <td>0.35864</td>\n",
       "      <td>0.337315</td>\n",
       "      <td>0.677264</td>\n",
       "      <td>...</td>\n",
       "      <td>3.850623</td>\n",
       "      <td>2.342566</td>\n",
       "      <td>2.357670</td>\n",
       "      <td>4.025986</td>\n",
       "      <td>2.719162</td>\n",
       "      <td>2.118112</td>\n",
       "      <td>0.886499</td>\n",
       "      <td>0.534583</td>\n",
       "      <td>0.212454</td>\n",
       "      <td>0.465608</td>\n",
       "    </tr>\n",
       "    <tr>\n",
       "      <th>std</th>\n",
       "      <td>7709.791156</td>\n",
       "      <td>0.910311</td>\n",
       "      <td>0.618149</td>\n",
       "      <td>0.215545</td>\n",
       "      <td>0.446214</td>\n",
       "      <td>0.253429</td>\n",
       "      <td>0.379448</td>\n",
       "      <td>0.47961</td>\n",
       "      <td>0.472802</td>\n",
       "      <td>0.467531</td>\n",
       "      <td>...</td>\n",
       "      <td>1.007436</td>\n",
       "      <td>1.285539</td>\n",
       "      <td>1.362766</td>\n",
       "      <td>1.086565</td>\n",
       "      <td>1.385055</td>\n",
       "      <td>1.332950</td>\n",
       "      <td>0.753422</td>\n",
       "      <td>0.928173</td>\n",
       "      <td>0.409052</td>\n",
       "      <td>0.498825</td>\n",
       "    </tr>\n",
       "    <tr>\n",
       "      <th>min</th>\n",
       "      <td>0.000000</td>\n",
       "      <td>0.000000</td>\n",
       "      <td>0.000000</td>\n",
       "      <td>0.000000</td>\n",
       "      <td>0.000000</td>\n",
       "      <td>0.000000</td>\n",
       "      <td>0.000000</td>\n",
       "      <td>0.00000</td>\n",
       "      <td>0.000000</td>\n",
       "      <td>0.000000</td>\n",
       "      <td>...</td>\n",
       "      <td>1.000000</td>\n",
       "      <td>1.000000</td>\n",
       "      <td>1.000000</td>\n",
       "      <td>1.000000</td>\n",
       "      <td>1.000000</td>\n",
       "      <td>1.000000</td>\n",
       "      <td>0.000000</td>\n",
       "      <td>0.000000</td>\n",
       "      <td>0.000000</td>\n",
       "      <td>0.000000</td>\n",
       "    </tr>\n",
       "    <tr>\n",
       "      <th>25%</th>\n",
       "      <td>6676.500000</td>\n",
       "      <td>1.000000</td>\n",
       "      <td>1.000000</td>\n",
       "      <td>0.000000</td>\n",
       "      <td>0.000000</td>\n",
       "      <td>0.000000</td>\n",
       "      <td>1.000000</td>\n",
       "      <td>0.00000</td>\n",
       "      <td>0.000000</td>\n",
       "      <td>0.000000</td>\n",
       "      <td>...</td>\n",
       "      <td>3.000000</td>\n",
       "      <td>1.000000</td>\n",
       "      <td>1.000000</td>\n",
       "      <td>4.000000</td>\n",
       "      <td>2.000000</td>\n",
       "      <td>1.000000</td>\n",
       "      <td>0.000000</td>\n",
       "      <td>0.000000</td>\n",
       "      <td>0.000000</td>\n",
       "      <td>0.000000</td>\n",
       "    </tr>\n",
       "    <tr>\n",
       "      <th>50%</th>\n",
       "      <td>13353.000000</td>\n",
       "      <td>2.000000</td>\n",
       "      <td>1.000000</td>\n",
       "      <td>0.000000</td>\n",
       "      <td>1.000000</td>\n",
       "      <td>0.000000</td>\n",
       "      <td>1.000000</td>\n",
       "      <td>0.00000</td>\n",
       "      <td>0.000000</td>\n",
       "      <td>1.000000</td>\n",
       "      <td>...</td>\n",
       "      <td>4.000000</td>\n",
       "      <td>2.000000</td>\n",
       "      <td>2.000000</td>\n",
       "      <td>4.000000</td>\n",
       "      <td>2.000000</td>\n",
       "      <td>2.000000</td>\n",
       "      <td>1.000000</td>\n",
       "      <td>0.000000</td>\n",
       "      <td>0.000000</td>\n",
       "      <td>0.000000</td>\n",
       "    </tr>\n",
       "    <tr>\n",
       "      <th>75%</th>\n",
       "      <td>20029.500000</td>\n",
       "      <td>2.000000</td>\n",
       "      <td>2.000000</td>\n",
       "      <td>0.000000</td>\n",
       "      <td>1.000000</td>\n",
       "      <td>0.000000</td>\n",
       "      <td>1.000000</td>\n",
       "      <td>1.00000</td>\n",
       "      <td>1.000000</td>\n",
       "      <td>1.000000</td>\n",
       "      <td>...</td>\n",
       "      <td>5.000000</td>\n",
       "      <td>4.000000</td>\n",
       "      <td>4.000000</td>\n",
       "      <td>5.000000</td>\n",
       "      <td>4.000000</td>\n",
       "      <td>4.000000</td>\n",
       "      <td>1.000000</td>\n",
       "      <td>1.000000</td>\n",
       "      <td>0.000000</td>\n",
       "      <td>1.000000</td>\n",
       "    </tr>\n",
       "    <tr>\n",
       "      <th>max</th>\n",
       "      <td>26706.000000</td>\n",
       "      <td>3.000000</td>\n",
       "      <td>2.000000</td>\n",
       "      <td>1.000000</td>\n",
       "      <td>1.000000</td>\n",
       "      <td>1.000000</td>\n",
       "      <td>1.000000</td>\n",
       "      <td>1.00000</td>\n",
       "      <td>1.000000</td>\n",
       "      <td>1.000000</td>\n",
       "      <td>...</td>\n",
       "      <td>5.000000</td>\n",
       "      <td>5.000000</td>\n",
       "      <td>5.000000</td>\n",
       "      <td>5.000000</td>\n",
       "      <td>5.000000</td>\n",
       "      <td>5.000000</td>\n",
       "      <td>3.000000</td>\n",
       "      <td>3.000000</td>\n",
       "      <td>1.000000</td>\n",
       "      <td>1.000000</td>\n",
       "    </tr>\n",
       "  </tbody>\n",
       "</table>\n",
       "<p>8 rows × 26 columns</p>\n",
       "</div>"
      ],
      "text/plain": [
       "       respondent_id  h1n1_concern  h1n1_knowledge  behavioral_antiviral_meds  \\\n",
       "count   26707.000000  26615.000000    26591.000000               26636.000000   \n",
       "mean    13353.000000      1.618486        1.262532                   0.048844   \n",
       "std      7709.791156      0.910311        0.618149                   0.215545   \n",
       "min         0.000000      0.000000        0.000000                   0.000000   \n",
       "25%      6676.500000      1.000000        1.000000                   0.000000   \n",
       "50%     13353.000000      2.000000        1.000000                   0.000000   \n",
       "75%     20029.500000      2.000000        2.000000                   0.000000   \n",
       "max     26706.000000      3.000000        2.000000                   1.000000   \n",
       "\n",
       "       behavioral_avoidance  behavioral_face_mask  behavioral_wash_hands  \\\n",
       "count          26499.000000          26688.000000           26665.000000   \n",
       "mean               0.725612              0.068982               0.825614   \n",
       "std                0.446214              0.253429               0.379448   \n",
       "min                0.000000              0.000000               0.000000   \n",
       "25%                0.000000              0.000000               1.000000   \n",
       "50%                1.000000              0.000000               1.000000   \n",
       "75%                1.000000              0.000000               1.000000   \n",
       "max                1.000000              1.000000               1.000000   \n",
       "\n",
       "       behavioral_large_gatherings  behavioral_outside_home  \\\n",
       "count                  26620.00000             26625.000000   \n",
       "mean                       0.35864                 0.337315   \n",
       "std                        0.47961                 0.472802   \n",
       "min                        0.00000                 0.000000   \n",
       "25%                        0.00000                 0.000000   \n",
       "50%                        0.00000                 0.000000   \n",
       "75%                        1.00000                 1.000000   \n",
       "max                        1.00000                 1.000000   \n",
       "\n",
       "       behavioral_touch_face  ...  opinion_h1n1_vacc_effective  \\\n",
       "count           26579.000000  ...                 26316.000000   \n",
       "mean                0.677264  ...                     3.850623   \n",
       "std                 0.467531  ...                     1.007436   \n",
       "min                 0.000000  ...                     1.000000   \n",
       "25%                 0.000000  ...                     3.000000   \n",
       "50%                 1.000000  ...                     4.000000   \n",
       "75%                 1.000000  ...                     5.000000   \n",
       "max                 1.000000  ...                     5.000000   \n",
       "\n",
       "       opinion_h1n1_risk  opinion_h1n1_sick_from_vacc  \\\n",
       "count       26319.000000                 26312.000000   \n",
       "mean            2.342566                     2.357670   \n",
       "std             1.285539                     1.362766   \n",
       "min             1.000000                     1.000000   \n",
       "25%             1.000000                     1.000000   \n",
       "50%             2.000000                     2.000000   \n",
       "75%             4.000000                     4.000000   \n",
       "max             5.000000                     5.000000   \n",
       "\n",
       "       opinion_seas_vacc_effective  opinion_seas_risk  \\\n",
       "count                 26245.000000       26193.000000   \n",
       "mean                      4.025986           2.719162   \n",
       "std                       1.086565           1.385055   \n",
       "min                       1.000000           1.000000   \n",
       "25%                       4.000000           2.000000   \n",
       "50%                       4.000000           2.000000   \n",
       "75%                       5.000000           4.000000   \n",
       "max                       5.000000           5.000000   \n",
       "\n",
       "       opinion_seas_sick_from_vacc  household_adults  household_children  \\\n",
       "count                 26170.000000      26458.000000        26458.000000   \n",
       "mean                      2.118112          0.886499            0.534583   \n",
       "std                       1.332950          0.753422            0.928173   \n",
       "min                       1.000000          0.000000            0.000000   \n",
       "25%                       1.000000          0.000000            0.000000   \n",
       "50%                       2.000000          1.000000            0.000000   \n",
       "75%                       4.000000          1.000000            1.000000   \n",
       "max                       5.000000          3.000000            3.000000   \n",
       "\n",
       "       h1n1_vaccine  seasonal_vaccine  \n",
       "count  26707.000000      26707.000000  \n",
       "mean       0.212454          0.465608  \n",
       "std        0.409052          0.498825  \n",
       "min        0.000000          0.000000  \n",
       "25%        0.000000          0.000000  \n",
       "50%        0.000000          0.000000  \n",
       "75%        0.000000          1.000000  \n",
       "max        1.000000          1.000000  \n",
       "\n",
       "[8 rows x 26 columns]"
      ]
     },
     "execution_count": 44,
     "metadata": {},
     "output_type": "execute_result"
    }
   ],
   "source": [
    "# viewing column statistics\n",
    "data.describe()"
   ]
  },
  {
   "cell_type": "code",
   "execution_count": null,
   "id": "1cc36d08",
   "metadata": {},
   "outputs": [
    {
     "data": {
      "application/vnd.microsoft.datawrangler.viewer.v0+json": {
       "columns": [
        {
         "name": "index",
         "rawType": "object",
         "type": "string"
        },
        {
         "name": "0",
         "rawType": "int64",
         "type": "integer"
        }
       ],
       "ref": "5648877c-9b38-4047-8a29-308aead5b872",
       "rows": [
        [
         "employment_occupation",
         "13470"
        ],
        [
         "employment_industry",
         "13330"
        ],
        [
         "health_insurance",
         "12274"
        ],
        [
         "income_poverty",
         "4423"
        ],
        [
         "doctor_recc_seasonal",
         "2160"
        ],
        [
         "doctor_recc_h1n1",
         "2160"
        ],
        [
         "rent_or_own",
         "2042"
        ],
        [
         "employment_status",
         "1463"
        ],
        [
         "marital_status",
         "1408"
        ],
        [
         "education",
         "1407"
        ],
        [
         "chronic_med_condition",
         "971"
        ],
        [
         "child_under_6_months",
         "820"
        ],
        [
         "health_worker",
         "804"
        ],
        [
         "opinion_seas_sick_from_vacc",
         "537"
        ],
        [
         "opinion_seas_risk",
         "514"
        ],
        [
         "opinion_seas_vacc_effective",
         "462"
        ],
        [
         "opinion_h1n1_sick_from_vacc",
         "395"
        ],
        [
         "opinion_h1n1_vacc_effective",
         "391"
        ],
        [
         "opinion_h1n1_risk",
         "388"
        ],
        [
         "household_children",
         "249"
        ],
        [
         "household_adults",
         "249"
        ],
        [
         "behavioral_avoidance",
         "208"
        ],
        [
         "behavioral_touch_face",
         "128"
        ],
        [
         "h1n1_knowledge",
         "116"
        ],
        [
         "h1n1_concern",
         "92"
        ],
        [
         "behavioral_large_gatherings",
         "87"
        ],
        [
         "behavioral_outside_home",
         "82"
        ],
        [
         "behavioral_antiviral_meds",
         "71"
        ],
        [
         "behavioral_wash_hands",
         "42"
        ],
        [
         "behavioral_face_mask",
         "19"
        ],
        [
         "respondent_id",
         "0"
        ],
        [
         "race",
         "0"
        ],
        [
         "sex",
         "0"
        ],
        [
         "age_group",
         "0"
        ],
        [
         "hhs_geo_region",
         "0"
        ],
        [
         "census_msa",
         "0"
        ],
        [
         "h1n1_vaccine",
         "0"
        ],
        [
         "seasonal_vaccine",
         "0"
        ]
       ],
       "shape": {
        "columns": 1,
        "rows": 38
       }
      },
      "text/html": [
       "<div>\n",
       "<style scoped>\n",
       "    .dataframe tbody tr th:only-of-type {\n",
       "        vertical-align: middle;\n",
       "    }\n",
       "\n",
       "    .dataframe tbody tr th {\n",
       "        vertical-align: top;\n",
       "    }\n",
       "\n",
       "    .dataframe thead th {\n",
       "        text-align: right;\n",
       "    }\n",
       "</style>\n",
       "<table border=\"1\" class=\"dataframe\">\n",
       "  <thead>\n",
       "    <tr style=\"text-align: right;\">\n",
       "      <th></th>\n",
       "      <th>0</th>\n",
       "    </tr>\n",
       "  </thead>\n",
       "  <tbody>\n",
       "    <tr>\n",
       "      <th>employment_occupation</th>\n",
       "      <td>13470</td>\n",
       "    </tr>\n",
       "    <tr>\n",
       "      <th>employment_industry</th>\n",
       "      <td>13330</td>\n",
       "    </tr>\n",
       "    <tr>\n",
       "      <th>health_insurance</th>\n",
       "      <td>12274</td>\n",
       "    </tr>\n",
       "    <tr>\n",
       "      <th>income_poverty</th>\n",
       "      <td>4423</td>\n",
       "    </tr>\n",
       "    <tr>\n",
       "      <th>doctor_recc_seasonal</th>\n",
       "      <td>2160</td>\n",
       "    </tr>\n",
       "    <tr>\n",
       "      <th>doctor_recc_h1n1</th>\n",
       "      <td>2160</td>\n",
       "    </tr>\n",
       "    <tr>\n",
       "      <th>rent_or_own</th>\n",
       "      <td>2042</td>\n",
       "    </tr>\n",
       "    <tr>\n",
       "      <th>employment_status</th>\n",
       "      <td>1463</td>\n",
       "    </tr>\n",
       "    <tr>\n",
       "      <th>marital_status</th>\n",
       "      <td>1408</td>\n",
       "    </tr>\n",
       "    <tr>\n",
       "      <th>education</th>\n",
       "      <td>1407</td>\n",
       "    </tr>\n",
       "    <tr>\n",
       "      <th>chronic_med_condition</th>\n",
       "      <td>971</td>\n",
       "    </tr>\n",
       "    <tr>\n",
       "      <th>child_under_6_months</th>\n",
       "      <td>820</td>\n",
       "    </tr>\n",
       "    <tr>\n",
       "      <th>health_worker</th>\n",
       "      <td>804</td>\n",
       "    </tr>\n",
       "    <tr>\n",
       "      <th>opinion_seas_sick_from_vacc</th>\n",
       "      <td>537</td>\n",
       "    </tr>\n",
       "    <tr>\n",
       "      <th>opinion_seas_risk</th>\n",
       "      <td>514</td>\n",
       "    </tr>\n",
       "    <tr>\n",
       "      <th>opinion_seas_vacc_effective</th>\n",
       "      <td>462</td>\n",
       "    </tr>\n",
       "    <tr>\n",
       "      <th>opinion_h1n1_sick_from_vacc</th>\n",
       "      <td>395</td>\n",
       "    </tr>\n",
       "    <tr>\n",
       "      <th>opinion_h1n1_vacc_effective</th>\n",
       "      <td>391</td>\n",
       "    </tr>\n",
       "    <tr>\n",
       "      <th>opinion_h1n1_risk</th>\n",
       "      <td>388</td>\n",
       "    </tr>\n",
       "    <tr>\n",
       "      <th>household_children</th>\n",
       "      <td>249</td>\n",
       "    </tr>\n",
       "    <tr>\n",
       "      <th>household_adults</th>\n",
       "      <td>249</td>\n",
       "    </tr>\n",
       "    <tr>\n",
       "      <th>behavioral_avoidance</th>\n",
       "      <td>208</td>\n",
       "    </tr>\n",
       "    <tr>\n",
       "      <th>behavioral_touch_face</th>\n",
       "      <td>128</td>\n",
       "    </tr>\n",
       "    <tr>\n",
       "      <th>h1n1_knowledge</th>\n",
       "      <td>116</td>\n",
       "    </tr>\n",
       "    <tr>\n",
       "      <th>h1n1_concern</th>\n",
       "      <td>92</td>\n",
       "    </tr>\n",
       "    <tr>\n",
       "      <th>behavioral_large_gatherings</th>\n",
       "      <td>87</td>\n",
       "    </tr>\n",
       "    <tr>\n",
       "      <th>behavioral_outside_home</th>\n",
       "      <td>82</td>\n",
       "    </tr>\n",
       "    <tr>\n",
       "      <th>behavioral_antiviral_meds</th>\n",
       "      <td>71</td>\n",
       "    </tr>\n",
       "    <tr>\n",
       "      <th>behavioral_wash_hands</th>\n",
       "      <td>42</td>\n",
       "    </tr>\n",
       "    <tr>\n",
       "      <th>behavioral_face_mask</th>\n",
       "      <td>19</td>\n",
       "    </tr>\n",
       "    <tr>\n",
       "      <th>respondent_id</th>\n",
       "      <td>0</td>\n",
       "    </tr>\n",
       "    <tr>\n",
       "      <th>race</th>\n",
       "      <td>0</td>\n",
       "    </tr>\n",
       "    <tr>\n",
       "      <th>sex</th>\n",
       "      <td>0</td>\n",
       "    </tr>\n",
       "    <tr>\n",
       "      <th>age_group</th>\n",
       "      <td>0</td>\n",
       "    </tr>\n",
       "    <tr>\n",
       "      <th>hhs_geo_region</th>\n",
       "      <td>0</td>\n",
       "    </tr>\n",
       "    <tr>\n",
       "      <th>census_msa</th>\n",
       "      <td>0</td>\n",
       "    </tr>\n",
       "    <tr>\n",
       "      <th>h1n1_vaccine</th>\n",
       "      <td>0</td>\n",
       "    </tr>\n",
       "    <tr>\n",
       "      <th>seasonal_vaccine</th>\n",
       "      <td>0</td>\n",
       "    </tr>\n",
       "  </tbody>\n",
       "</table>\n",
       "</div>"
      ],
      "text/plain": [
       "                                 0\n",
       "employment_occupation        13470\n",
       "employment_industry          13330\n",
       "health_insurance             12274\n",
       "income_poverty                4423\n",
       "doctor_recc_seasonal          2160\n",
       "doctor_recc_h1n1              2160\n",
       "rent_or_own                   2042\n",
       "employment_status             1463\n",
       "marital_status                1408\n",
       "education                     1407\n",
       "chronic_med_condition          971\n",
       "child_under_6_months           820\n",
       "health_worker                  804\n",
       "opinion_seas_sick_from_vacc    537\n",
       "opinion_seas_risk              514\n",
       "opinion_seas_vacc_effective    462\n",
       "opinion_h1n1_sick_from_vacc    395\n",
       "opinion_h1n1_vacc_effective    391\n",
       "opinion_h1n1_risk              388\n",
       "household_children             249\n",
       "household_adults               249\n",
       "behavioral_avoidance           208\n",
       "behavioral_touch_face          128\n",
       "h1n1_knowledge                 116\n",
       "h1n1_concern                    92\n",
       "behavioral_large_gatherings     87\n",
       "behavioral_outside_home         82\n",
       "behavioral_antiviral_meds       71\n",
       "behavioral_wash_hands           42\n",
       "behavioral_face_mask            19\n",
       "respondent_id                    0\n",
       "race                             0\n",
       "sex                              0\n",
       "age_group                        0\n",
       "hhs_geo_region                   0\n",
       "census_msa                       0\n",
       "h1n1_vaccine                     0\n",
       "seasonal_vaccine                 0"
      ]
     },
     "execution_count": 45,
     "metadata": {},
     "output_type": "execute_result"
    }
   ],
   "source": [
    "# checking for missing values\n",
    "missing = data.isna().sum().to_frame().sort_values(0,ascending = False)\n",
    "missing"
   ]
  },
  {
   "cell_type": "markdown",
   "id": "2ca2927a",
   "metadata": {},
   "source": [
    "#### Findings\n",
    "* Most columns with float datatype are categorical in nature with values ranging from 0-5.\n",
    "* Most columns have missing values\n",
    "* There are no duplicate rows"
   ]
  },
  {
   "cell_type": "markdown",
   "id": "20c4a387",
   "metadata": {},
   "source": [
    "#### Relationship between knowledge about H1N1 and vaccine utilisation."
   ]
  },
  {
   "cell_type": "code",
   "execution_count": null,
   "id": "56680f87",
   "metadata": {},
   "outputs": [
    {
     "data": {
      "image/png": "[encoded data removed]",
      "text/plain": [
       "<Figure size 1200x900 with 2 Axes>"
      ]
     },
     "metadata": {},
     "output_type": "display_data"
    }
   ],
   "source": [
    "fig,(ax_1,ax_2) = plt.subplots(figsize = (12,9),ncols = 2,sharey = True)\n",
    "\n",
    "my_cmap = plt.cm.cividis\n",
    "crosstab_know1 = pd.crosstab(data[\"h1n1_knowledge\"],data['h1n1_vaccine'],normalize=\"index\")\n",
    "crosstab_know1.plot(kind = \"barh\",stacked = True,colormap=my_cmap,ax = ax_1)\n",
    "crosstab_know2 = pd.crosstab(data[\"h1n1_knowledge\"],data['seasonal_vaccine'],normalize=\"index\")\n",
    "crosstab_know2.plot(kind = \"barh\",stacked = True,colormap=my_cmap,ax = ax_2)\n",
    "ax_1.set_xlabel(\"H1N1 vaccine utilisation\")\n",
    "ax_2.set_xlabel(\"Seasonal vaccine utilisation\")\n",
    "\n",
    "fig.suptitle(\"H1N1 knowledge vs Vaccine utilisation\")\n",
    "fig.tight_layout()"
   ]
  },
  {
   "cell_type": "markdown",
   "id": "26f5b555",
   "metadata": {},
   "source": [
    "There is a noticeable increase in vaccine utilisation with increase in H1N1 knowledge. People are once again more likely to take seasonal flu vaccinations."
   ]
  },
  {
   "cell_type": "markdown",
   "id": "398b12f4",
   "metadata": {},
   "source": [
    "#### Relationship between concern about H1N1 and vaccine utilisation"
   ]
  },
  {
   "cell_type": "code",
   "execution_count": null,
   "id": "c2d9bb1c",
   "metadata": {},
   "outputs": [
    {
     "data": {
      "image/png": "[encoded data removed]",
      "text/plain": [
       "<Figure size 1200x900 with 2 Axes>"
      ]
     },
     "metadata": {},
     "output_type": "display_data"
    }
   ],
   "source": [
    "my_cmap = plt.cm.cividis\n",
    "fig,(ax_1,ax_2) = plt.subplots(figsize = (12,9),ncols = 2,sharey = True)\n",
    "\n",
    "crosstab_concern1 = pd.crosstab(data[\"h1n1_concern\"],data['h1n1_vaccine'],normalize=\"index\")\n",
    "crosstab_concern1.plot(kind = \"barh\",stacked = True,colormap=my_cmap,ax = ax_1)\n",
    "crosstab_concern2 = pd.crosstab(data[\"h1n1_concern\"],data['seasonal_vaccine'],normalize=\"index\")\n",
    "crosstab_concern2.plot(kind = \"barh\",stacked = True,colormap=my_cmap,ax = ax_2)\n",
    "ax_1.set_xlabel(\"H1N1 vaccine utilisation\")\n",
    "ax_2.set_xlabel(\"Seasonal vaccine utilisation\")\n",
    "\n",
    "fig.suptitle(\"H1N1 concern vs Vaccine utilisation\")\n",
    "fig.tight_layout()"
   ]
  },
  {
   "cell_type": "markdown",
   "id": "e85c99eb",
   "metadata": {},
   "source": [
    "From this graph, the higher the concern about being infected with H1N1, the higher the likelihood of utilising the vaccine. Utilisation of seasonal flu vaccine is noticeably higher in all categories."
   ]
  },
  {
   "cell_type": "markdown",
   "id": "2d5f5b27",
   "metadata": {},
   "source": [
    "#### Relationship between gender, race, age group and vaccine uptake."
   ]
  },
  {
   "cell_type": "code",
   "execution_count": null,
   "id": "4b2c325a",
   "metadata": {},
   "outputs": [
    {
     "data": {
      "image/png": "[encoded data removed]",
      "text/plain": [
       "<Figure size 1200x900 with 6 Axes>"
      ]
     },
     "metadata": {},
     "output_type": "display_data"
    }
   ],
   "source": [
    "fig,axes = plt.subplots(figsize = (12,9),ncols = 2,nrows = 3)\n",
    "to_plot = [\"sex\",\"race\",\"age_group\"]\n",
    "\n",
    "for idx,col in enumerate(to_plot):\n",
    "    left_ax = axes[idx,0]\n",
    "    right_ax = axes[idx,1]\n",
    "\n",
    "    crosstab1 = pd.crosstab(data[col],data['h1n1_vaccine'],normalize=\"index\")\n",
    "    crosstab1.plot(kind = \"barh\",stacked = True,colormap=my_cmap,ax = left_ax)\n",
    "    crosstab2 = pd.crosstab(data[col],data['seasonal_vaccine'],normalize=\"index\")\n",
    "    crosstab2.plot(kind = \"barh\",stacked = True,colormap=my_cmap,ax = right_ax)\n",
    "    left_ax.set_xlabel(\"H1N1 vaccine utilisation\")\n",
    "    right_ax.set_xlabel(\"Seasonal vaccine utilisation\")\n",
    "    left_ax.set_title(f\"{col.title()} vs H1N1 vaccine utilisation\")\n",
    "    right_ax.set_title(f\"{col.title()} vs Seasonal flu vaccine utilisation\")\n",
    "\n",
    "fig.tight_layout(pad=2);"
   ]
  },
  {
   "cell_type": "markdown",
   "id": "2f0ee01f",
   "metadata": {},
   "source": [
    "From the graphs produced, the following observations are noted:\n",
    "* There are more women taking the seasonal flu vaccine. Vaccine utilisation between the genders is almost equal, however.\n",
    "* H1N1 vaccine utilisation is also almost equal among all races except for the black race. Seasonal flu vaccine utilisation is much higher across the board.\n",
    "* In the various age groups, H1N1 vaccine utilisation is almost similar across age groups. Younger respondents are less likely to take the seasonal flu vaccine however. \n"
   ]
  },
  {
   "cell_type": "markdown",
   "id": "b549255a",
   "metadata": {},
   "source": [
    "#### Influence of opinions on seasonal flu vaccine uptake?"
   ]
  },
  {
   "cell_type": "code",
   "execution_count": null,
   "id": "e79db900",
   "metadata": {},
   "outputs": [
    {
     "data": {
      "image/png": "[encoded data removed]",
      "text/plain": [
       "<Figure size 1200x900 with 3 Axes>"
      ]
     },
     "metadata": {},
     "output_type": "display_data"
    }
   ],
   "source": [
    "fig,axes = plt.subplots(figsize = (12,9),nrows = 3)\n",
    "features_to_plot = ['opinion_seas_vacc_effective','opinion_seas_risk','opinion_seas_sick_from_vacc',]\n",
    "\n",
    "for idx,col in enumerate(features_to_plot):\n",
    "    ax = axes[idx]\n",
    "    crosstab1 = pd.crosstab(data[col],data['seasonal_vaccine'],normalize=\"index\")\n",
    "    crosstab1.plot(kind = \"barh\",stacked = True,colormap=my_cmap,ax = ax)\n",
    "    ax.set_xlabel(\"Seasonal Flu vaccine uptake\")\n",
    "    ax.set_title(f\"{col} vs Seasonal Flu vaccine uptake\")\n",
    "\n",
    "fig.tight_layout(pad=3);"
   ]
  },
  {
   "cell_type": "markdown",
   "id": "3a1780f5",
   "metadata": {},
   "source": [
    "Individuals that believe in the effectiveness of the seasonal flu vaccine are more likely to utilise it. People that are also more cautious about the risk of catching the flu without the vaccine are also more likely to utilise it."
   ]
  },
  {
   "cell_type": "code",
   "execution_count": null,
   "id": "04f35c9c",
   "metadata": {},
   "outputs": [
    {
     "data": {
      "image/png": "[encoded data removed]",
      "text/plain": [
       "<Figure size 2000x2000 with 6 Axes>"
      ]
     },
     "metadata": {},
     "output_type": "display_data"
    }
   ],
   "source": [
    "# adding columns to plot to a list\n",
    "columns = [\"age_group\",\"sex\",\"education\",\"race\",\"income_poverty\",\"employment_status\"]\n",
    "\n",
    "# setting style,axes and figsize\n",
    "fig,axes = plt.subplots(figsize = (20,20),nrows = 3,ncols = 2)\n",
    "sns.set_style(\"whitegrid\")\n",
    "\n",
    "for i,col in enumerate(columns):\n",
    "    # defining the axis for plotting\n",
    "    row = i//2\n",
    "    column = i%2\n",
    "    ax = axes[row][column]\n",
    "    # defining x and y for the barchart\n",
    "    x = data[col].value_counts(normalize=True).index\n",
    "    y = data[col].value_counts(normalize=True)\n",
    "    sns.barplot(x=x, y=y, hue=x, palette=\"summer\", ax=ax, legend=False)\n",
    "    ax.set_xlabel(f\"{col.title()}\")\n",
    "    ax.set_ylabel(\"Count\")\n",
    "    ax.set_title(f\"Distribution of {col.title()}\");"
   ]
  },
  {
   "cell_type": "markdown",
   "id": "3bddabb0",
   "metadata": {},
   "source": [
    "#### Observations\n",
    "* Majority of the respondents are above 65 years of age.\n",
    "* About 60% of the respondents are female.\n",
    "* Most of the respondents are college graduates.\n",
    "* 80% are white.\n",
    "* About 60% earn between the poverty line and around $75,000 annually.\n",
    "* Most of the respondents are employed."
   ]
  },
  {
   "cell_type": "markdown",
   "id": "dc699056",
   "metadata": {},
   "source": [
    "### 3. Data Processing"
   ]
  },
  {
   "cell_type": "markdown",
   "id": "f8f21034",
   "metadata": {},
   "source": [
    "* In this section, I will prepare the data for modelling. I will address invalid data, missing data, wrong data types, scaling, encoding any categorical variables,dropping highly correlated columns and feature engineering. \n",
    "* I will first split the data into training and test data to prevent data leakage. \n",
    "*  The target variables are meant to be `h1n1_vaccine` and `seasonal_vaccine`. The two columns are both droped from X. \n",
    "* In this section, I focus on `seasonal_vaccine` as the target variable. "
   ]
  },
  {
   "cell_type": "code",
   "execution_count": null,
   "id": "356b6445",
   "metadata": {},
   "outputs": [],
   "source": [
    "# separating target variables from the features\n",
    "X = data.drop([\"seasonal_vaccine\",\"h1n1_vaccine\"],axis=1)\n",
    "y = data.seasonal_vaccine"
   ]
  },
  {
   "cell_type": "code",
   "execution_count": null,
   "id": "c6281e96",
   "metadata": {},
   "outputs": [],
   "source": [
    "# splitting data into test and train and setting a random seed for reproducibility\n",
    "random_seed = 1234\n",
    "X_train,X_test,y_train,y_test = train_test_split(X,y,random_state=random_seed,stratify=y,test_size=0.2)"
   ]
  },
  {
   "cell_type": "markdown",
   "id": "6ab88fe8",
   "metadata": {},
   "source": [
    "#### Checking for Multicollinearity\n",
    "* Highly correlated columns will lead to multicollinearity. \n",
    "* This can affect model performance as there are two columns providing similar information. As such, one of the columns would need to be dropped. \n",
    "* I will create a dataframe with correlated pairs and their correlation coefficent. Anything above 80% will have one column dropped."
   ]
  },
  {
   "cell_type": "code",
   "execution_count": null,
   "id": "3772d5b2",
   "metadata": {},
   "outputs": [
    {
     "name": "stdout",
     "output_type": "stream",
     "text": [
      "                        Feature1                     Feature2  Correlation\n",
      "274         doctor_recc_seasonal             doctor_recc_h1n1     0.589624\n",
      "176  behavioral_large_gatherings      behavioral_outside_home     0.576798\n",
      "497            opinion_seas_risk            opinion_h1n1_risk     0.563763\n",
      "453  opinion_h1n1_sick_from_vacc  opinion_seas_sick_from_vacc     0.491009\n",
      "403  opinion_h1n1_vacc_effective  opinion_seas_vacc_effective     0.474041\n",
      "41                  h1n1_concern            opinion_h1n1_risk     0.376020\n",
      "433  opinion_h1n1_sick_from_vacc                 h1n1_concern     0.360955\n",
      "153        behavioral_wash_hands        behavioral_touch_face     0.360299\n",
      "499            opinion_seas_risk  opinion_seas_vacc_effective     0.345633\n",
      "148        behavioral_wash_hands         behavioral_avoidance     0.337190\n"
     ]
    }
   ],
   "source": [
    "# Filter only numeric columns before correlation\n",
    "numeric_data = X_train.select_dtypes(include=['number'])\n",
    "\n",
    "# Compute correlation on numeric columns only\n",
    "df_corr = (\n",
    "    numeric_data.corr()        # correlation matrix\n",
    "    .abs()                     # absolute correlation\n",
    "    .stack()                   # convert matrix to long format\n",
    "    .reset_index()             # reset index for columns\n",
    "    .sort_values(0, ascending=False)  # sort by correlation value\n",
    ")\n",
    "\n",
    "# Rename columns for clarity\n",
    "df_corr.columns = ['Feature1', 'Feature2', 'Correlation']\n",
    "\n",
    "# Remove self-pairs (Feature1 == Feature2)\n",
    "df_corr = df_corr[df_corr['Feature1'] != df_corr['Feature2']]\n",
    "\n",
    "# Drop duplicate pairs (A,B) and (B,A)\n",
    "df_corr = df_corr.drop_duplicates(subset=['Correlation'])\n",
    "\n",
    "# Show top correlations\n",
    "print(df_corr.head(10))\n"
   ]
  },
  {
   "cell_type": "markdown",
   "id": "2d18c55e",
   "metadata": {},
   "source": [
    "The highest correlation is 58.9%. As a result, no columns will be dropped."
   ]
  },
  {
   "cell_type": "markdown",
   "id": "f389d2a0",
   "metadata": {},
   "source": [
    "#### Missing values\n",
    "Missing values will be addressed in the following ways:\n",
    "* Replaced with mode or the string \"missing\".\n",
    "* Dropped rows.\n",
    "\n",
    "**The SimpleImputer class is used to impute columns with missing values with their modes and with string \"missing\".*"
   ]
  },
  {
   "cell_type": "code",
   "execution_count": null,
   "id": "2ba2d678",
   "metadata": {},
   "outputs": [
    {
     "data": {
      "application/vnd.microsoft.datawrangler.viewer.v0+json": {
       "columns": [
        {
         "name": "index",
         "rawType": "object",
         "type": "string"
        },
        {
         "name": "0",
         "rawType": "int64",
         "type": "integer"
        }
       ],
       "ref": "e12ad9cf-7c09-4991-b400-d04ae02bea12",
       "rows": [
        [
         "employment_occupation",
         "10843"
        ],
        [
         "employment_industry",
         "10727"
        ],
        [
         "health_insurance",
         "9828"
        ],
        [
         "income_poverty",
         "3515"
        ],
        [
         "doctor_recc_seasonal",
         "1711"
        ],
        [
         "doctor_recc_h1n1",
         "1711"
        ],
        [
         "rent_or_own",
         "1633"
        ],
        [
         "employment_status",
         "1167"
        ],
        [
         "marital_status",
         "1122"
        ],
        [
         "education",
         "1118"
        ],
        [
         "chronic_med_condition",
         "770"
        ],
        [
         "child_under_6_months",
         "655"
        ],
        [
         "health_worker",
         "636"
        ],
        [
         "opinion_seas_sick_from_vacc",
         "429"
        ],
        [
         "opinion_seas_risk",
         "415"
        ],
        [
         "opinion_seas_vacc_effective",
         "375"
        ],
        [
         "opinion_h1n1_vacc_effective",
         "321"
        ],
        [
         "opinion_h1n1_sick_from_vacc",
         "317"
        ],
        [
         "opinion_h1n1_risk",
         "314"
        ],
        [
         "household_children",
         "194"
        ],
        [
         "household_adults",
         "194"
        ],
        [
         "behavioral_avoidance",
         "170"
        ],
        [
         "behavioral_touch_face",
         "112"
        ],
        [
         "h1n1_knowledge",
         "98"
        ],
        [
         "h1n1_concern",
         "75"
        ],
        [
         "behavioral_large_gatherings",
         "72"
        ],
        [
         "behavioral_outside_home",
         "66"
        ],
        [
         "behavioral_antiviral_meds",
         "56"
        ],
        [
         "behavioral_wash_hands",
         "33"
        ],
        [
         "behavioral_face_mask",
         "13"
        ],
        [
         "respondent_id",
         "0"
        ],
        [
         "age_group",
         "0"
        ],
        [
         "race",
         "0"
        ],
        [
         "sex",
         "0"
        ],
        [
         "census_msa",
         "0"
        ],
        [
         "hhs_geo_region",
         "0"
        ]
       ],
       "shape": {
        "columns": 1,
        "rows": 36
       }
      },
      "text/html": [
       "<div>\n",
       "<style scoped>\n",
       "    .dataframe tbody tr th:only-of-type {\n",
       "        vertical-align: middle;\n",
       "    }\n",
       "\n",
       "    .dataframe tbody tr th {\n",
       "        vertical-align: top;\n",
       "    }\n",
       "\n",
       "    .dataframe thead th {\n",
       "        text-align: right;\n",
       "    }\n",
       "</style>\n",
       "<table border=\"1\" class=\"dataframe\">\n",
       "  <thead>\n",
       "    <tr style=\"text-align: right;\">\n",
       "      <th></th>\n",
       "      <th>0</th>\n",
       "    </tr>\n",
       "  </thead>\n",
       "  <tbody>\n",
       "    <tr>\n",
       "      <th>employment_occupation</th>\n",
       "      <td>10843</td>\n",
       "    </tr>\n",
       "    <tr>\n",
       "      <th>employment_industry</th>\n",
       "      <td>10727</td>\n",
       "    </tr>\n",
       "    <tr>\n",
       "      <th>health_insurance</th>\n",
       "      <td>9828</td>\n",
       "    </tr>\n",
       "    <tr>\n",
       "      <th>income_poverty</th>\n",
       "      <td>3515</td>\n",
       "    </tr>\n",
       "    <tr>\n",
       "      <th>doctor_recc_seasonal</th>\n",
       "      <td>1711</td>\n",
       "    </tr>\n",
       "    <tr>\n",
       "      <th>doctor_recc_h1n1</th>\n",
       "      <td>1711</td>\n",
       "    </tr>\n",
       "    <tr>\n",
       "      <th>rent_or_own</th>\n",
       "      <td>1633</td>\n",
       "    </tr>\n",
       "    <tr>\n",
       "      <th>employment_status</th>\n",
       "      <td>1167</td>\n",
       "    </tr>\n",
       "    <tr>\n",
       "      <th>marital_status</th>\n",
       "      <td>1122</td>\n",
       "    </tr>\n",
       "    <tr>\n",
       "      <th>education</th>\n",
       "      <td>1118</td>\n",
       "    </tr>\n",
       "    <tr>\n",
       "      <th>chronic_med_condition</th>\n",
       "      <td>770</td>\n",
       "    </tr>\n",
       "    <tr>\n",
       "      <th>child_under_6_months</th>\n",
       "      <td>655</td>\n",
       "    </tr>\n",
       "    <tr>\n",
       "      <th>health_worker</th>\n",
       "      <td>636</td>\n",
       "    </tr>\n",
       "    <tr>\n",
       "      <th>opinion_seas_sick_from_vacc</th>\n",
       "      <td>429</td>\n",
       "    </tr>\n",
       "    <tr>\n",
       "      <th>opinion_seas_risk</th>\n",
       "      <td>415</td>\n",
       "    </tr>\n",
       "    <tr>\n",
       "      <th>opinion_seas_vacc_effective</th>\n",
       "      <td>375</td>\n",
       "    </tr>\n",
       "    <tr>\n",
       "      <th>opinion_h1n1_vacc_effective</th>\n",
       "      <td>321</td>\n",
       "    </tr>\n",
       "    <tr>\n",
       "      <th>opinion_h1n1_sick_from_vacc</th>\n",
       "      <td>317</td>\n",
       "    </tr>\n",
       "    <tr>\n",
       "      <th>opinion_h1n1_risk</th>\n",
       "      <td>314</td>\n",
       "    </tr>\n",
       "    <tr>\n",
       "      <th>household_children</th>\n",
       "      <td>194</td>\n",
       "    </tr>\n",
       "    <tr>\n",
       "      <th>household_adults</th>\n",
       "      <td>194</td>\n",
       "    </tr>\n",
       "    <tr>\n",
       "      <th>behavioral_avoidance</th>\n",
       "      <td>170</td>\n",
       "    </tr>\n",
       "    <tr>\n",
       "      <th>behavioral_touch_face</th>\n",
       "      <td>112</td>\n",
       "    </tr>\n",
       "    <tr>\n",
       "      <th>h1n1_knowledge</th>\n",
       "      <td>98</td>\n",
       "    </tr>\n",
       "    <tr>\n",
       "      <th>h1n1_concern</th>\n",
       "      <td>75</td>\n",
       "    </tr>\n",
       "    <tr>\n",
       "      <th>behavioral_large_gatherings</th>\n",
       "      <td>72</td>\n",
       "    </tr>\n",
       "    <tr>\n",
       "      <th>behavioral_outside_home</th>\n",
       "      <td>66</td>\n",
       "    </tr>\n",
       "    <tr>\n",
       "      <th>behavioral_antiviral_meds</th>\n",
       "      <td>56</td>\n",
       "    </tr>\n",
       "    <tr>\n",
       "      <th>behavioral_wash_hands</th>\n",
       "      <td>33</td>\n",
       "    </tr>\n",
       "    <tr>\n",
       "      <th>behavioral_face_mask</th>\n",
       "      <td>13</td>\n",
       "    </tr>\n",
       "    <tr>\n",
       "      <th>respondent_id</th>\n",
       "      <td>0</td>\n",
       "    </tr>\n",
       "    <tr>\n",
       "      <th>age_group</th>\n",
       "      <td>0</td>\n",
       "    </tr>\n",
       "    <tr>\n",
       "      <th>race</th>\n",
       "      <td>0</td>\n",
       "    </tr>\n",
       "    <tr>\n",
       "      <th>sex</th>\n",
       "      <td>0</td>\n",
       "    </tr>\n",
       "    <tr>\n",
       "      <th>census_msa</th>\n",
       "      <td>0</td>\n",
       "    </tr>\n",
       "    <tr>\n",
       "      <th>hhs_geo_region</th>\n",
       "      <td>0</td>\n",
       "    </tr>\n",
       "  </tbody>\n",
       "</table>\n",
       "</div>"
      ],
      "text/plain": [
       "                                 0\n",
       "employment_occupation        10843\n",
       "employment_industry          10727\n",
       "health_insurance              9828\n",
       "income_poverty                3515\n",
       "doctor_recc_seasonal          1711\n",
       "doctor_recc_h1n1              1711\n",
       "rent_or_own                   1633\n",
       "employment_status             1167\n",
       "marital_status                1122\n",
       "education                     1118\n",
       "chronic_med_condition          770\n",
       "child_under_6_months           655\n",
       "health_worker                  636\n",
       "opinion_seas_sick_from_vacc    429\n",
       "opinion_seas_risk              415\n",
       "opinion_seas_vacc_effective    375\n",
       "opinion_h1n1_vacc_effective    321\n",
       "opinion_h1n1_sick_from_vacc    317\n",
       "opinion_h1n1_risk              314\n",
       "household_children             194\n",
       "household_adults               194\n",
       "behavioral_avoidance           170\n",
       "behavioral_touch_face          112\n",
       "h1n1_knowledge                  98\n",
       "h1n1_concern                    75\n",
       "behavioral_large_gatherings     72\n",
       "behavioral_outside_home         66\n",
       "behavioral_antiviral_meds       56\n",
       "behavioral_wash_hands           33\n",
       "behavioral_face_mask            13\n",
       "respondent_id                    0\n",
       "age_group                        0\n",
       "race                             0\n",
       "sex                              0\n",
       "census_msa                       0\n",
       "hhs_geo_region                   0"
      ]
     },
     "execution_count": 54,
     "metadata": {},
     "output_type": "execute_result"
    }
   ],
   "source": [
    "# Viewing columns with missing data\n",
    "missing_train = X_train.isna().sum().to_frame().sort_values(0,ascending = False)\n",
    "missing_train"
   ]
  },
  {
   "cell_type": "code",
   "execution_count": null,
   "id": "03a68e8e",
   "metadata": {},
   "outputs": [],
   "source": [
    "# instantiating a SimpleImputer to fill missing data with their modes\n",
    "imputer_fill = SimpleImputer(strategy = \"most_frequent\",missing_values = np.nan)\n",
    "cols_to_fill = [\"income_poverty\",\"doctor_recc_h1n1\",\"doctor_recc_seasonal\",\"education\",\"health_insurance\",\"health_worker\"]\n",
    "\n",
    "# fitting and transforming on the train data then reassigning \n",
    "X_train[cols_to_fill] = imputer_fill.fit_transform(X_train[cols_to_fill])\n",
    "\n",
    "# transforming test data\n",
    "X_test[cols_to_fill] = imputer_fill.transform(X_test[cols_to_fill])\n"
   ]
  },
  {
   "cell_type": "code",
   "execution_count": null,
   "id": "539e4b26",
   "metadata": {},
   "outputs": [],
   "source": [
    "# instantiating a SimpleImputer to fill missing data with the string \"missing\"\n",
    "imputer_miss = SimpleImputer(strategy=\"constant\",missing_values=np.nan,fill_value=\"missing\")\n",
    "cols_miss = [\"employment_status\",\"employment_occupation\",\"employment_industry\"]\n",
    "\n",
    "# fitting and transforming on the train data then reassigning\n",
    "X_train[cols_miss] = imputer_miss.fit_transform(X_train[cols_miss])\n",
    "\n",
    "# transforming test data\n",
    "X_test[cols_miss] = imputer_miss.transform(X_test[cols_miss])\n",
    "   "
   ]
  },
  {
   "cell_type": "code",
   "execution_count": null,
   "id": "82ce0029",
   "metadata": {},
   "outputs": [],
   "source": [
    "# dropping rows with null values\n",
    "X_train.dropna(inplace=True)\n",
    "X_test.dropna(inplace=True)"
   ]
  },
  {
   "cell_type": "code",
   "execution_count": null,
   "id": "20cf0522",
   "metadata": {},
   "outputs": [
    {
     "name": "stdout",
     "output_type": "stream",
     "text": [
      "Number of null values in train data: 0 \n",
      "\n",
      "Number of null values in test data: 0\n"
     ]
    }
   ],
   "source": [
    "# checking for any null values in the train and test set\n",
    "print(\"Number of null values in train data:\",X_train.isnull().sum().sum(),\"\\n\")\n",
    "print(\"Number of null values in test data:\",X_test.isnull().sum().sum())"
   ]
  },
  {
   "cell_type": "code",
   "execution_count": null,
   "id": "4311eb4d",
   "metadata": {},
   "outputs": [],
   "source": [
    "# identifying indices to drop\n",
    "set1 = set(y_test.index) \n",
    "set2 = set(X_test.index)\n",
    "set3 = set(y_train.index)\n",
    "set4 = set(X_train.index)\n",
    "\n",
    "index_to_drop_test = list(set1-set2)\n",
    "index_to_drop_train = list(set3-set4)\n",
    "\n",
    "# dropping those rows\n",
    "y_test = y_test.drop(index_to_drop_test)\n",
    "y_train = y_train.drop(index_to_drop_train)"
   ]
  },
  {
   "cell_type": "code",
   "execution_count": null,
   "id": "3ad3de9d",
   "metadata": {},
   "outputs": [],
   "source": [
    "# drop respondent id\n",
    "X = X.drop('respondent_id', axis=1)"
   ]
  },
  {
   "cell_type": "code",
   "execution_count": null,
   "id": "aaff541d",
   "metadata": {},
   "outputs": [
    {
     "name": "stdout",
     "output_type": "stream",
     "text": [
      "Train set shape: (18880, 36)\n",
      "Test set shape: (4729, 36)\n"
     ]
    }
   ],
   "source": [
    "# asserting the change\n",
    "assert len(y_test) == len(X_test)\n",
    "assert len(y_train) == len(X_train)\n",
    "\n",
    "# Viewing the number of rows and columns in the train and test set\n",
    "print(\"Train set shape:\", X_train.shape)\n",
    "print(\"Test set shape:\", X_test.shape)"
   ]
  },
  {
   "cell_type": "markdown",
   "id": "42e3241b",
   "metadata": {},
   "source": [
    "#### Encoding Categorical Values\n",
    "Since most machine learning models are unable to work with categorical values, I will convert these values in my dataset to a numerical format. This section addresses this using the pandas `get_dummies` method. There are also three columns that have been encoded with random strings. They are to be replaced with numbers for readability then one-hot encoded.\n",
    "\n",
    "#### Replacing column values\n",
    "This can be achieved with the Ordinal encorder class which will result in a column of integers from 0 to n-1 categories."
   ]
  },
  {
   "cell_type": "code",
   "execution_count": null,
   "id": "e8d08d27",
   "metadata": {},
   "outputs": [
    {
     "data": {
      "application/vnd.microsoft.datawrangler.viewer.v0+json": {
       "columns": [
        {
         "name": "employment_industry",
         "rawType": "object",
         "type": "string"
        },
        {
         "name": "count",
         "rawType": "int64",
         "type": "integer"
        }
       ],
       "ref": "f787d74b-0001-43ef-8a79-cf292b216511",
       "rows": [
        [
         "missing",
         "8825"
        ],
        [
         "fcxhlnwr",
         "1846"
        ],
        [
         "wxleyezf",
         "1380"
        ],
        [
         "ldnlellj",
         "920"
        ],
        [
         "pxcmvdjn",
         "799"
        ],
        [
         "atmlpfrs",
         "690"
        ],
        [
         "arjwrbjb",
         "659"
        ],
        [
         "xicduogh",
         "616"
        ],
        [
         "mfikgejo",
         "479"
        ],
        [
         "rucpziij",
         "397"
        ],
        [
         "vjjrobsf",
         "388"
        ],
        [
         "xqicxuve",
         "386"
        ],
        [
         "saaquncn",
         "253"
        ],
        [
         "cfqqtusy",
         "241"
        ],
        [
         "nduyfdeo",
         "208"
        ],
        [
         "mcubkhph",
         "203"
        ],
        [
         "wlfvacwt",
         "157"
        ],
        [
         "dotnnunm",
         "153"
        ],
        [
         "haxffmxo",
         "112"
        ],
        [
         "msuufmds",
         "95"
        ],
        [
         "phxvnwax",
         "60"
        ],
        [
         "qnlwzans",
         "13"
        ]
       ],
       "shape": {
        "columns": 1,
        "rows": 22
       }
      },
      "text/plain": [
       "employment_industry\n",
       "missing     8825\n",
       "fcxhlnwr    1846\n",
       "wxleyezf    1380\n",
       "ldnlellj     920\n",
       "pxcmvdjn     799\n",
       "atmlpfrs     690\n",
       "arjwrbjb     659\n",
       "xicduogh     616\n",
       "mfikgejo     479\n",
       "rucpziij     397\n",
       "vjjrobsf     388\n",
       "xqicxuve     386\n",
       "saaquncn     253\n",
       "cfqqtusy     241\n",
       "nduyfdeo     208\n",
       "mcubkhph     203\n",
       "wlfvacwt     157\n",
       "dotnnunm     153\n",
       "haxffmxo     112\n",
       "msuufmds      95\n",
       "phxvnwax      60\n",
       "qnlwzans      13\n",
       "Name: count, dtype: int64"
      ]
     },
     "execution_count": 62,
     "metadata": {},
     "output_type": "execute_result"
    }
   ],
   "source": [
    "# assessing one of the columns with anonymised data\n",
    "X_train.employment_industry.value_counts()"
   ]
  },
  {
   "cell_type": "code",
   "execution_count": null,
   "id": "7687b1e6",
   "metadata": {},
   "outputs": [
    {
     "data": {
      "application/vnd.microsoft.datawrangler.viewer.v0+json": {
       "columns": [
        {
         "name": "employment_industry",
         "rawType": "float64",
         "type": "float"
        },
        {
         "name": "count",
         "rawType": "int64",
         "type": "integer"
        }
       ],
       "ref": "670b40b7-db06-48ee-845f-dd2a34379078",
       "rows": [
        [
         "9.0",
         "8825"
        ],
        [
         "4.0",
         "1846"
        ],
        [
         "19.0",
         "1380"
        ],
        [
         "6.0",
         "920"
        ],
        [
         "13.0",
         "799"
        ],
        [
         "1.0",
         "690"
        ],
        [
         "0.0",
         "659"
        ],
        [
         "20.0",
         "616"
        ],
        [
         "8.0",
         "479"
        ],
        [
         "15.0",
         "397"
        ],
        [
         "17.0",
         "388"
        ],
        [
         "21.0",
         "386"
        ],
        [
         "16.0",
         "253"
        ],
        [
         "2.0",
         "241"
        ],
        [
         "11.0",
         "208"
        ],
        [
         "7.0",
         "203"
        ],
        [
         "18.0",
         "157"
        ],
        [
         "3.0",
         "153"
        ],
        [
         "5.0",
         "112"
        ],
        [
         "10.0",
         "95"
        ],
        [
         "12.0",
         "60"
        ],
        [
         "14.0",
         "13"
        ]
       ],
       "shape": {
        "columns": 1,
        "rows": 22
       }
      },
      "text/plain": [
       "employment_industry\n",
       "9.0     8825\n",
       "4.0     1846\n",
       "19.0    1380\n",
       "6.0      920\n",
       "13.0     799\n",
       "1.0      690\n",
       "0.0      659\n",
       "20.0     616\n",
       "8.0      479\n",
       "15.0     397\n",
       "17.0     388\n",
       "21.0     386\n",
       "16.0     253\n",
       "2.0      241\n",
       "11.0     208\n",
       "7.0      203\n",
       "18.0     157\n",
       "3.0      153\n",
       "5.0      112\n",
       "10.0      95\n",
       "12.0      60\n",
       "14.0      13\n",
       "Name: count, dtype: int64"
      ]
     },
     "execution_count": 63,
     "metadata": {},
     "output_type": "execute_result"
    }
   ],
   "source": [
    "# columns to replace\n",
    "to_replace = ['employment_industry','employment_occupation','hhs_geo_region']\n",
    "\n",
    "# instantiating the class\n",
    "ord_en = OrdinalEncoder()\n",
    "\n",
    "# fitting and transforming on training data and transforming on test data\n",
    "X_train[to_replace] = ord_en.fit_transform(X_train[to_replace])\n",
    "X_test[to_replace] = ord_en.transform(X_test[to_replace])\n",
    "\n",
    "# confirming the change\n",
    "X_train.employment_industry.value_counts()"
   ]
  },
  {
   "cell_type": "markdown",
   "id": "b615eac3",
   "metadata": {},
   "source": [
    "##### One Hot Encoding\n",
    "All the columns with the float and integer data types are categorical in nature thus necessitating their change into the category data type in preparation for one hot encoding."
   ]
  },
  {
   "cell_type": "code",
   "execution_count": null,
   "id": "1bb420be",
   "metadata": {},
   "outputs": [
    {
     "name": "stdout",
     "output_type": "stream",
     "text": [
      "object      13\n",
      "category     9\n",
      "category     6\n",
      "category     3\n",
      "category     1\n",
      "category     1\n",
      "category     1\n",
      "category     1\n",
      "category     1\n",
      "Name: count, dtype: int64 \n",
      "\n",
      "object      13\n",
      "category     9\n",
      "category     6\n",
      "category     3\n",
      "category     1\n",
      "category     1\n",
      "category     1\n",
      "category     1\n",
      "category     1\n",
      "Name: count, dtype: int64\n"
     ]
    }
   ],
   "source": [
    "# assigning columns with float datatype to a variable\n",
    "float_cols = X_train.select_dtypes([\"float\",\"int\"]).columns\n",
    "\n",
    "# for loop to convert datatype to category\n",
    "for col in float_cols:\n",
    "    X_train[col] = X_train[col].astype(\"category\")\n",
    "    X_test[col] = X_test[col].astype(\"category\")\n",
    "\n",
    "print(X_train.dtypes.value_counts(),\"\\n\")\n",
    "print(X_test.dtypes.value_counts()  )  "
   ]
  },
  {
   "cell_type": "code",
   "execution_count": null,
   "id": "cdbbcdba",
   "metadata": {},
   "outputs": [],
   "source": [
    "# using OneHotEncoder to encode categorical variables\n",
    "encoder = OneHotEncoder(handle_unknown='ignore', sparse_output=True)\n",
    "X_train_one_hot = encoder.fit_transform(X_train)\n",
    "X_test_one_hot = encoder.transform(X_test)"
   ]
  },
  {
   "cell_type": "code",
   "execution_count": null,
   "id": "d341bf3c",
   "metadata": {},
   "outputs": [
    {
     "name": "stdout",
     "output_type": "stream",
     "text": [
      "(18880, 19000) (4729, 19000)\n"
     ]
    }
   ],
   "source": [
    "# One-hot encode train and test\n",
    "X_train_one_hot = pd.get_dummies(X_train, drop_first=True)\n",
    "X_test_one_hot  = pd.get_dummies(X_test, drop_first=True)\n",
    "\n",
    "# Align columns to avoid mismatch\n",
    "X_train_one_hot, X_test_one_hot = X_train_one_hot.align(X_test_one_hot, join='left', axis=1, fill_value=0)\n",
    "\n",
    "\n",
    "# Check shapes\n",
    "print(X_train_one_hot.shape, X_test_one_hot.shape)"
   ]
  },
  {
   "cell_type": "markdown",
   "id": "740a5a38",
   "metadata": {},
   "source": [
    "The dataset now exists in a binary format and is ready for modelling.\n"
   ]
  },
  {
   "cell_type": "markdown",
   "id": "b3289a6f",
   "metadata": {},
   "source": [
    "### 4. Modelling\n",
    "* I will look at the iterative modelling process with an aim of arriving at one with the highest accuracy on the test data. \n",
    "* First, I will build a baseline model and evaluate its accuracy. \n",
    "* Cross validation will also be done to have a more accurate estimate of model performance. Logistic Regression and Decision Trees (Random Forest Model) are explored as methods of improving model performance.\n",
    "\n",
    "#### 4a. Baseline Model\n",
    "* A logistic regression model is used as the baseline model since we are dealing with a classification problem. A random state is assigned for reproducibility."
   ]
  },
  {
   "cell_type": "markdown",
   "id": "165b415f",
   "metadata": {},
   "source": [
    "#### Feature Selection\n"
   ]
  },
  {
   "cell_type": "code",
   "execution_count": null,
   "id": "eef60455",
   "metadata": {},
   "outputs": [],
   "source": [
    "# defining function that fits a model and returns accuracy\n",
    "def evaluation(model,X_train,y_train,X_test,y_test):\n",
    "    \n",
    "    # fitting the model\n",
    "    model.fit(X_train,y_train)\n",
    "\n",
    "    # generating predictions for train and test data\n",
    "    y_train_pred = model.predict(X_train)\n",
    "    y_test_pred = model.predict(X_test)\n",
    "\n",
    "    #performing cross validation\n",
    "    cross_val = cross_val_score(model,X_train,y_train,cv = 10)\n",
    "\n",
    "    #printing accuracy\n",
    "    print(f\"Train Accuracy: {round(accuracy_score(y_train,y_train_pred)*100,4)}%\")\n",
    "    print(f\"Cross Validation Accuracy: {round(cross_val.mean()*100,4)}%\")\n",
    "    print(f\"Test Accuracy: {round(accuracy_score(y_test,y_test_pred)*100,4)}%\")\n"
   ]
  },
  {
   "cell_type": "code",
   "execution_count": null,
   "id": "f8d64249",
   "metadata": {},
   "outputs": [
    {
     "name": "stdout",
     "output_type": "stream",
     "text": [
      "Logistic Regression Baseline Model Scores\n",
      "Train Accuracy: 86.4831%\n",
      "Cross Validation Accuracy: 78.7553%\n",
      "Test Accuracy: 78.008%\n"
     ]
    }
   ],
   "source": [
    "baseline_model = LogisticRegression(random_state=random_seed, solver=\"saga\", max_iter=200, tol=1e-3)\n",
    "\n",
    "#evaluating model\n",
    "print(\"Logistic Regression Baseline Model Scores\")\n",
    "evaluation(baseline_model,X_train_one_hot,y_train,X_test_one_hot,y_test)\n"
   ]
  },
  {
   "cell_type": "markdown",
   "id": "11044540",
   "metadata": {},
   "source": [
    "#### Interpretation\n",
    "* The model performs well on training data (86.58%). However, the significant discrepancy with test data (8%) suggests some level of overfitting. The same is supported by the discrepancy with cross validation accuracy (also 8%).\n"
   ]
  },
  {
   "cell_type": "code",
   "execution_count": null,
   "id": "63262569",
   "metadata": {},
   "outputs": [
    {
     "name": "stdout",
     "output_type": "stream",
     "text": [
      "              precision    recall  f1-score   support\n",
      "\n",
      "           0       0.78      0.82      0.80      2518\n",
      "           1       0.78      0.74      0.76      2211\n",
      "\n",
      "    accuracy                           0.78      4729\n",
      "   macro avg       0.78      0.78      0.78      4729\n",
      "weighted avg       0.78      0.78      0.78      4729\n",
      "\n"
     ]
    }
   ],
   "source": [
    "# previewing classification report \n",
    "pred_test = baseline_model.predict(X_test_one_hot)\n",
    "print(classification_report(y_test,pred_test))"
   ]
  },
  {
   "cell_type": "markdown",
   "id": "2563c94c",
   "metadata": {},
   "source": [
    "Our evaluation measures put the effectiveness of the model at 78%. This still does not meet our desired threshhold of 80%."
   ]
  },
  {
   "cell_type": "code",
   "execution_count": null,
   "id": "a1ebee0b",
   "metadata": {},
   "outputs": [
    {
     "data": {
      "image/png": "[encoded data removed]",
      "text/plain": [
       "<Figure size 1200x900 with 2 Axes>"
      ]
     },
     "metadata": {},
     "output_type": "display_data"
    }
   ],
   "source": [
    "# plotting confusion matrix for the baseline model\n",
    "fig,ax = plt.subplots(figsize=(12,9))\n",
    "plt.grid(False)\n",
    "\n",
    "ConfusionMatrixDisplay.from_estimator(baseline_model,X_test_one_hot,y_test,cmap=\"summer\",ax=ax)\n",
    "ax.set_title(\"Logistic Regression Baseline Model Confusion Matrix\");"
   ]
  },
  {
   "cell_type": "markdown",
   "id": "1900d238",
   "metadata": {},
   "source": [
    "Majority of our data falls within the True positive (1641) and True negative (2056) spectra. This is a good sign."
   ]
  },
  {
   "cell_type": "markdown",
   "id": "e92d83fd",
   "metadata": {},
   "source": [
    "#### Feature Selection\n",
    "To improve the model's performance and reduce overfitting, implementing feature elimination will be key in reducing model complexity."
   ]
  },
  {
   "cell_type": "code",
   "execution_count": null,
   "id": "20dcab6a",
   "metadata": {},
   "outputs": [],
   "source": [
    "from sklearn.feature_selection import SelectKBest, chi2\n",
    "\n",
    "# Keep top 500 features (you can adjust k)\n",
    "selector = SelectKBest(chi2, k=500)\n",
    "X_train_reduced = selector.fit_transform(X_train_one_hot, y_train)\n",
    "X_test_reduced = selector.transform(X_test_one_hot)"
   ]
  },
  {
   "cell_type": "code",
   "execution_count": null,
   "id": "b8a3dc93",
   "metadata": {},
   "outputs": [
    {
     "name": "stdout",
     "output_type": "stream",
     "text": [
      "Previous number of features:  19000\n",
      "New number of features:  500\n"
     ]
    }
   ],
   "source": [
    "# Preview shapes\n",
    "print(\"Previous number of features: \", X_train_one_hot.shape[1])\n",
    "print(\"New number of features: \", X_train_reduced.shape[1])"
   ]
  },
  {
   "cell_type": "code",
   "execution_count": null,
   "id": "3ffdd178",
   "metadata": {},
   "outputs": [
    {
     "name": "stdout",
     "output_type": "stream",
     "text": [
      "Logistic Regression Model with SelectKBest features:\n",
      "Train Accuracy: 79.1049%\n",
      "Cross Validation Accuracy: 78.66%\n",
      "Test Accuracy: 77.9657%\n",
      "\n",
      "Logistic Regression Model (same, retrained for comparison):\n",
      "Train Accuracy: 79.1049%\n",
      "Cross Validation Accuracy: 78.66%\n",
      "Test Accuracy: 77.9657%\n"
     ]
    }
   ],
   "source": [
    "# Baseline Logistic Regression on reduced features\n",
    "baseline_model = LogisticRegression(solver=\"sag\", random_state=random_seed, max_iter=100)\n",
    "new_log = LogisticRegression(solver=\"sag\", random_state=random_seed, max_iter=100)\n",
    "\n",
    "print(\"Logistic Regression Model with SelectKBest features:\")\n",
    "evaluation(baseline_model, X_train_reduced, y_train, X_test_reduced, y_test)\n",
    "\n",
    "print(\"\\nLogistic Regression Model (same, retrained for comparison):\")\n",
    "evaluation(new_log, X_train_reduced, y_train, X_test_reduced, y_test)"
   ]
  },
  {
   "cell_type": "markdown",
   "id": "faf39ac9",
   "metadata": {},
   "source": [
    "The model output is the same across the original and retrained sample. The distance between the traning data and test data accuracy is very small (0.44%), which means the model doesn't overfit. That is a good sign. "
   ]
  },
  {
   "cell_type": "code",
   "execution_count": null,
   "id": "a4a886c0",
   "metadata": {},
   "outputs": [
    {
     "name": "stdout",
     "output_type": "stream",
     "text": [
      "              precision    recall  f1-score   support\n",
      "\n",
      "           0       0.78      0.81      0.80      2518\n",
      "           1       0.78      0.74      0.76      2211\n",
      "\n",
      "    accuracy                           0.78      4729\n",
      "   macro avg       0.78      0.78      0.78      4729\n",
      "weighted avg       0.78      0.78      0.78      4729\n",
      "\n"
     ]
    }
   ],
   "source": [
    "# Viewing classification report\n",
    "pred_test_tuned = new_log.predict(X_test_reduced)\n",
    "print(classification_report(y_test, pred_test_tuned))"
   ]
  },
  {
   "cell_type": "code",
   "execution_count": null,
   "id": "227b3bf1",
   "metadata": {},
   "outputs": [
    {
     "data": {
      "image/png": "[encoded data removed]",
      "text/plain": [
       "<Figure size 1200x900 with 2 Axes>"
      ]
     },
     "metadata": {},
     "output_type": "display_data"
    }
   ],
   "source": [
    "# Plotting confusion matrix\n",
    "fig, ax = plt.subplots(figsize=(12, 9))\n",
    "plt.grid(False)\n",
    "\n",
    "ConfusionMatrixDisplay.from_estimator(\n",
    "    new_log, \n",
    "    X_test_reduced, \n",
    "    y_test, \n",
    "    ax=ax, \n",
    "    cmap=\"summer\"\n",
    ")\n",
    "ax.set_title(\"Logistic Regression with SelectKBest Features Confusion Matrix\");\n"
   ]
  },
  {
   "cell_type": "markdown",
   "id": "16104214",
   "metadata": {},
   "source": [
    "There is a reduction in False Negatives and False Positives and an increase in True Positives and True Negatives. This is a good outcome."
   ]
  },
  {
   "cell_type": "markdown",
   "id": "0fa8727a",
   "metadata": {},
   "source": [
    "#### 4b. Random Forest Model"
   ]
  },
  {
   "cell_type": "code",
   "execution_count": null,
   "id": "f9d58b4a",
   "metadata": {},
   "outputs": [
    {
     "name": "stdout",
     "output_type": "stream",
     "text": [
      "Random Forest Model with default hyperparameters:\n",
      "Train Accuracy: 100.0%\n",
      "Cross Validation Accuracy: 77.0339%\n",
      "Test Accuracy: 77.2256%\n"
     ]
    }
   ],
   "source": [
    "# Instantiating a random forest classifier with default hyperparameters\n",
    "rf = RandomForestClassifier(random_state=random_seed, n_jobs=-1)\n",
    "\n",
    "print(\"Random Forest Model with default hyperparameters:\")\n",
    "evaluation(rf, X_train_reduced, y_train, X_test_reduced, y_test)"
   ]
  },
  {
   "cell_type": "markdown",
   "id": "369e6c17",
   "metadata": {},
   "source": [
    "This classifier is overfitting as the train data accuracy is almost 100% while the test data accuracy is significantly less. It is not able to generalise well.\n",
    "Tuning the hyperparameters should solve the situation."
   ]
  },
  {
   "cell_type": "markdown",
   "id": "55508141",
   "metadata": {},
   "source": [
    "#### Tuning Hyperparameters\n",
    "Focus will be on the following:\n",
    "* n_estimators - Specifies the number of trees that shoud be planted. More trees = Higher complexity\n",
    "* max_leaf_nodes - Restricts tree growth by specifiying the maximum number of leaf nodes allowed, after which no more splitting can take place.\n",
    "* min_samples_split - Specifies the minimum number of observations in a given node before splitting. A higher number = less chance of overfitting.\n"
   ]
  },
  {
   "cell_type": "code",
   "execution_count": null,
   "id": "ac71e6f1",
   "metadata": {},
   "outputs": [
    {
     "name": "stdout",
     "output_type": "stream",
     "text": [
      "The best parameters are:\n",
      " {'max_leaf_nodes': 200, 'min_samples_split': 4, 'n_estimators': 200}\n"
     ]
    }
   ],
   "source": [
    "params = [\n",
    "    {\n",
    "        \"max_leaf_nodes\": [100, 150, 200],\n",
    "        \"min_samples_split\": range(2, 6),\n",
    "        \"n_estimators\": [100, 150, 200]\n",
    "    }\n",
    "]\n",
    "\n",
    "grid = GridSearchCV(rf, param_grid=params, cv=5, n_jobs=-1)\n",
    "grid.fit(X_train_reduced, y_train)\n",
    "\n",
    "print(\"The best parameters are:\\n\", grid.best_params_)\n"
   ]
  },
  {
   "cell_type": "code",
   "execution_count": null,
   "id": "46970c15",
   "metadata": {},
   "outputs": [
    {
     "name": "stdout",
     "output_type": "stream",
     "text": [
      "Random Forest Model with tuned hyperparameters:\n",
      "Train Accuracy: 79.5286%\n",
      "Cross Validation Accuracy: 77.2299%\n",
      "Test Accuracy: 77.0988%\n"
     ]
    }
   ],
   "source": [
    "rf_tuned = RandomForestClassifier(\n",
    "    random_state=random_seed,\n",
    "    max_leaf_nodes=200,\n",
    "    min_samples_split=5,\n",
    "    n_estimators=100\n",
    ")\n",
    "\n",
    "print(\"Random Forest Model with tuned hyperparameters:\")\n",
    "evaluation(rf_tuned, X_train_reduced, y_train, X_test_reduced, y_test)\n"
   ]
  },
  {
   "cell_type": "markdown",
   "id": "75a3e57b",
   "metadata": {},
   "source": [
    "There's a notable improvement in the overfitting that characterised the previous iteration."
   ]
  },
  {
   "cell_type": "code",
   "execution_count": null,
   "id": "c5607cc5",
   "metadata": {},
   "outputs": [
    {
     "name": "stdout",
     "output_type": "stream",
     "text": [
      "              precision    recall  f1-score   support\n",
      "\n",
      "           0       0.77      0.81      0.79      2518\n",
      "           1       0.77      0.72      0.75      2211\n",
      "\n",
      "    accuracy                           0.77      4729\n",
      "   macro avg       0.77      0.77      0.77      4729\n",
      "weighted avg       0.77      0.77      0.77      4729\n",
      "\n"
     ]
    }
   ],
   "source": [
    "# Previewing classification report\n",
    "pred_test_tuned_rf = rf_tuned.predict(X_test_reduced)\n",
    "print(classification_report(y_test, pred_test_tuned_rf))"
   ]
  },
  {
   "cell_type": "code",
   "execution_count": null,
   "id": "f16a27b5",
   "metadata": {},
   "outputs": [
    {
     "data": {
      "image/png": "[encoded data removed]",
      "text/plain": [
       "<Figure size 1200x900 with 2 Axes>"
      ]
     },
     "metadata": {},
     "output_type": "display_data"
    }
   ],
   "source": [
    "# Plotting confusion matrix\n",
    "fig, ax = plt.subplots(figsize=(12, 9))\n",
    "plt.grid(False)\n",
    "\n",
    "ConfusionMatrixDisplay.from_estimator(\n",
    "    rf_tuned, \n",
    "    X_test_reduced, \n",
    "    y_test, \n",
    "    ax=ax, \n",
    "    cmap=\"summer\"\n",
    ")\n",
    "ax.set_title(\"Random Forest Model Confusion Matrix\");"
   ]
  },
  {
   "cell_type": "markdown",
   "id": "859434a0",
   "metadata": {},
   "source": [
    "##### Feature Relevance\n",
    "Plotting a graph of feature relevance allows me to determine the features that have the most impact on the model when it comes to predicting the target variable."
   ]
  },
  {
   "cell_type": "code",
   "execution_count": null,
   "id": "07019c59",
   "metadata": {},
   "outputs": [],
   "source": [
    "# Creating a dataframe of feature importances\n",
    "selected_features = selector.get_feature_names_out()\n",
    "\n",
    "feat_rf = pd.DataFrame(\n",
    "    data=rf_tuned.feature_importances_,\n",
    "    index=selected_features,\n",
    "    columns=[\"importance\"]\n",
    ")\n",
    "\n",
    "feat_rf = feat_rf.sort_values(\"importance\", ascending=False)"
   ]
  },
  {
   "cell_type": "code",
   "execution_count": null,
   "id": "caf5dcba",
   "metadata": {},
   "outputs": [
    {
     "data": {
      "image/png": "[encoded data removed]",
      "text/plain": [
       "<Figure size 1500x1500 with 1 Axes>"
      ]
     },
     "metadata": {},
     "output_type": "display_data"
    }
   ],
   "source": [
    "# plotting graph of top 10 most relevant features\n",
    "\n",
    "fig,ax = plt.subplots(figsize = (15,15))\n",
    "\n",
    "sns.barplot(x=feat_rf.importance[:10],y = feat_rf.index[:10],orient=\"h\",palette=\"summer\",ax=ax)\n",
    "ax.set_ylabel(\"Features\")\n",
    "ax.set_title(\"Graph of Feature Relevance from Random Forest Model\");"
   ]
  },
  {
   "cell_type": "markdown",
   "id": "0c6d5f4a",
   "metadata": {},
   "source": [
    "From this graph, it is clear that a positive opinion on the effectiveness of the seasonal flu vaccine has the biggest influence on the likelihood of taking the vaccine, followed by a doctor's recommendation to take it. This also aligns with what was discovered during the exploratory data analysis phase. "
   ]
  },
  {
   "cell_type": "code",
   "execution_count": null,
   "id": "6360ad15",
   "metadata": {},
   "outputs": [],
   "source": [
    "# Pickling the final model so you don't have to retrain it\n",
    "import joblib\n",
    "\n",
    "with open(\"seasonal_flu_model.pkl\", \"wb\") as f:\n",
    "    joblib.dump(rf_tuned, f)"
   ]
  },
  {
   "cell_type": "markdown",
   "id": "ae7dce8f",
   "metadata": {},
   "source": [
    "### 5. Evaluation\n",
    "The best model is the logistic regression with an accuracy of 77.9% and a training accuracy of 79.1%. Cross validation also gave a mean accuracy of 78.66%. This means the model is able to correctly classify 77.9% of observations.\n",
    "\n",
    "Some features that are relevant in predicting the utilisation of seasonal flu vaccination are:\n",
    "* The respondents' opinion on the effectiveness of the vaccine is a positive indicator of their utilisation of the vaccine.\n",
    "* Doctor's recommendation to take the vaccine is a positive indicator of their utilisation of the vaccine.\n",
    "* The respondent's opinion on the risks involved with not being vaccinated. A high risk of getting sick = increased likelihood of vaccination.\n",
    "* People older than 65.\n",
    "\n",
    "These feature relevancies have also dominated all the tested models.\n",
    "\n"
   ]
  },
  {
   "cell_type": "markdown",
   "id": "0a4bdd6f",
   "metadata": {},
   "source": [
    "### 6. Recommendations\n",
    "From the models it can be concluded that people's opinions have a huge impact on their likelihood to take vaccines. Therefore, the following recommendations can be made:\n",
    "* Public awareness campaigns should be made regarding the effectiveness of the seasonal flu vaccine as well as the risks associated with the flu.\n",
    "* Elderly people (65+) are more likely to utilise the seasonal flu vaccine. The younger population could, therefore, be targeted for such campaigns.\n",
    "* Emphasis on the safety of the vaccines for use by the public would be useful."
   ]
  }
 ],
 "metadata": {
  "kernelspec": {
   "display_name": "Python 3",
   "language": "python",
   "name": "python3"
  },
  "language_info": {
   "codemirror_mode": {
    "name": "ipython",
    "version": 3
   },
   "file_extension": ".py",
   "mimetype": "text/x-python",
   "name": "python",
   "nbconvert_exporter": "python",
   "pygments_lexer": "ipython3",
   "version": "3.13.5"
  }
 },
 "nbformat": 4,
 "nbformat_minor": 5
}
