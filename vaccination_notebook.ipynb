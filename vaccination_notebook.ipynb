{
 "cells": [
  {
   "cell_type": "markdown",
   "id": "3819cbb8",
   "metadata": {},
   "source": [
    "## Prediction of H1N1 and Seasonal Flu Vaccination Uptake Using Machine Learning.\n",
    "\n",
    "### Introduction\n",
    "Influenza (flu) is a contagious respiratory illness that can cause serious complications, sometimes leading to hospitalization or even death. Remember the Spanish Flu that spread across the world courtesy of returning soldiers after World War 1? That was influenza. Those most at risk include older adults (65+ years), young children, and individuals with underlying health conditions (WHO, 2024).\n",
    "\n",
    "The best way to protect yourself is through an annual flu vaccine, which reduces the severity of illness and related complications. The vaccine works by stimulating your immune system to produce protective antibodies within about two weeks (CDC, 2024). Health authorities recommend that everyone aged 6 months and older get vaccinated every year.\n",
    "\n",
    "The **H1N1 pandemic** began in 2009 when a new influenza A virus strain emerged in the United States. It caused widespread illness and an estimated 151,700–575,400 deaths globally. Unlike typical seasonal flu, this outbreak mainly affected children and younger adults, while older adults were less impacted—likely because they had pre-existing immunity from exposure to a similar virus decades earlier. A targeted vaccine was rolled out in October 2009, and by August 2010, the World Health Organization declared the pandemic over. However, H1N1 did not disappear; it continues to circulate as part of the seasonal flu viruses we see today (CDC, 2024).\n",
    "\n",
    "**Coronavirus Disease 2019 (COVID‑19)** was first identified in late 2019 in Wuhan, China, after clusters of patients presented with a severe respiratory illness resembling viral pneumonia. Rapid global spread, high hospitalization burdens in some settings, and early mortality uncertainty drove an urgent push to develop vaccines at unprecedented speed. That speed—along with changing public guidance, misinformation, and broader social distrust—contributed to widespread worry and reluctance around COVID‑19 vaccination in many communities (WHO; CDC; global public health reports).\n",
    "\n",
    "This hesitation was not new. During the 2009 pandemic, public health officials reported similar concerns about a “fast‑tracked” vaccine, and uptake varied widely across populations. Studies from that period showed that risk perception, trust in authorities, and beliefs about vaccine safety strongly influenced whether people agreed to be immunized (global influenza behavior studies; pandemic preparedness literature).\n",
    "\n",
    "**Vaccine hesitancy** refers to delay in acceptance or refusal of vaccines despite availability of vaccination services. It is shaped by factors such as confidence (trust in the vaccine and the system that delivers it), complacency (perceived need for the vaccine), and convenience (access). Hesitancy can shift over time and across social or cultural settings and has been identified by global health agencies as a significant threat to disease control efforts (WHO Strategic Advisory Group of Experts on Immunization; global vaccine confidence monitoring initiatives).\n",
    "\n",
    "Pandemics amplify the stakes. When large numbers postpone or refuse vaccination during a fast‑moving outbreak, the result can be preventable illness, strain on health systems, and sustained community transmission. Evidence from recent survey research suggests that **past vaccine behavior may predict future decisions**: people who declined a prior influenza (including H1N1) vaccine have often reported lower willingness to accept newer vaccines such as those for COVID‑19 (comparative vaccine acceptance studies; vaccine confidence surveys).\n",
    "\n",
    "#### What should public health teams do?\n",
    "A practical first step is to use available data—socioeconomic and demographic indicators, healthcare access, prior vaccination history, perceived risk, and beliefs about vaccine effectiveness and safety—to identify groups at higher risk for hesitancy. From there, programs can:\n",
    "\n",
    "* Tailor messages to local concerns (safety, side effects, speed of development).\n",
    "* Engage trusted messengers: frontline clinicians, community leaders, faith groups.\n",
    "* Improve convenience: mobile clinics, community vaccination days, combined care visits.\n",
    "* Share transparent data on safety monitoring and real‑world effectiveness.\n",
    "* Track sentiment over time and adjust outreach before the next surge or pandemic.\n",
    "\n",
    "By combining behavioral insight with targeted communication and easier access, public health practitioners can reduce vaccine gaps—and be better prepared when the next emerging infection appears.\n",
    "\n",
    "### Objective\n",
    "The goal of this project is to create a model that can predict seasonal flu vaccine uptake based on a person's background and behavioral patterns. The project will be deemed a success when a model with the highest accuracy is developed.\n",
    "\n",
    "### Project Pipeline\n",
    "This outlines the processes to be undertaken in this project. They are:\n",
    "1. Loading the data\n",
    "2. Exploratory data analysis\n",
    "3. Data processing\n",
    "4. Modelling\n",
    "5. Evaluation\n",
    "6. Conclusion\n",
    "7. Recommendations"
   ]
  },
  {
   "cell_type": "markdown",
   "id": "e3e9d27e",
   "metadata": {},
   "source": [
    "### 1. Loading the Data\n",
    "#### Importing relevant Libraries and loading Datasets"
   ]
  },
  {
   "cell_type": "code",
   "execution_count": 2,
   "id": "b724b0e1",
   "metadata": {},
   "outputs": [],
   "source": [
    "# importing relevant libraries\n",
    "import pandas as pd\n",
    "import numpy as np\n",
    "import matplotlib.pyplot as plt\n",
    "import seaborn as sns\n",
    "\n",
    "from sklearn.model_selection import train_test_split,cross_val_score,GridSearchCV\n",
    "from sklearn.impute import SimpleImputer\n",
    "from sklearn.preprocessing import OrdinalEncoder\n",
    "from sklearn.linear_model import LogisticRegression\n",
    "from sklearn.metrics import accuracy_score,roc_auc_score,ConfusionMatrixDisplay,classification_report\n",
    "from sklearn.ensemble import RandomForestClassifier\n",
    "from xgboost import XGBClassifier\n",
    "from sklearn.feature_selection import RFECV\n",
    "from sklearn.ensemble import GradientBoostingClassifier\n",
    "import joblib"
   ]
  },
  {
   "cell_type": "code",
   "execution_count": 3,
   "id": "4a0d60d5",
   "metadata": {},
   "outputs": [],
   "source": [
    "# loading the dataset\n",
    "test = pd.read_csv('test_set_features.csv')\n",
    "features = pd.read_csv('training_set_features.csv')\n",
    "labels = pd.read_csv('training_set_labels.csv')\n"
   ]
  },
  {
   "cell_type": "markdown",
   "id": "83e95f7c",
   "metadata": {},
   "source": [
    "### 1. Exploratory Data Analysis (EDA)"
   ]
  },
  {
   "cell_type": "code",
   "execution_count": 4,
   "id": "3e7966a7",
   "metadata": {},
   "outputs": [
    {
     "data": {
      "application/vnd.microsoft.datawrangler.viewer.v0+json": {
       "columns": [
        {
         "name": "index",
         "rawType": "int64",
         "type": "integer"
        },
        {
         "name": "respondent_id",
         "rawType": "int64",
         "type": "integer"
        },
        {
         "name": "h1n1_vaccine",
         "rawType": "int64",
         "type": "integer"
        },
        {
         "name": "seasonal_vaccine",
         "rawType": "int64",
         "type": "integer"
        }
       ],
       "ref": "d104c7fd-546c-4efe-9dca-b047a4cd59d1",
       "rows": [
        [
         "0",
         "0",
         "0",
         "0"
        ],
        [
         "1",
         "1",
         "0",
         "1"
        ],
        [
         "2",
         "2",
         "0",
         "0"
        ],
        [
         "3",
         "3",
         "0",
         "1"
        ],
        [
         "4",
         "4",
         "0",
         "0"
        ]
       ],
       "shape": {
        "columns": 3,
        "rows": 5
       }
      },
      "text/html": [
       "<div>\n",
       "<style scoped>\n",
       "    .dataframe tbody tr th:only-of-type {\n",
       "        vertical-align: middle;\n",
       "    }\n",
       "\n",
       "    .dataframe tbody tr th {\n",
       "        vertical-align: top;\n",
       "    }\n",
       "\n",
       "    .dataframe thead th {\n",
       "        text-align: right;\n",
       "    }\n",
       "</style>\n",
       "<table border=\"1\" class=\"dataframe\">\n",
       "  <thead>\n",
       "    <tr style=\"text-align: right;\">\n",
       "      <th></th>\n",
       "      <th>respondent_id</th>\n",
       "      <th>h1n1_vaccine</th>\n",
       "      <th>seasonal_vaccine</th>\n",
       "    </tr>\n",
       "  </thead>\n",
       "  <tbody>\n",
       "    <tr>\n",
       "      <th>0</th>\n",
       "      <td>0</td>\n",
       "      <td>0</td>\n",
       "      <td>0</td>\n",
       "    </tr>\n",
       "    <tr>\n",
       "      <th>1</th>\n",
       "      <td>1</td>\n",
       "      <td>0</td>\n",
       "      <td>1</td>\n",
       "    </tr>\n",
       "    <tr>\n",
       "      <th>2</th>\n",
       "      <td>2</td>\n",
       "      <td>0</td>\n",
       "      <td>0</td>\n",
       "    </tr>\n",
       "    <tr>\n",
       "      <th>3</th>\n",
       "      <td>3</td>\n",
       "      <td>0</td>\n",
       "      <td>1</td>\n",
       "    </tr>\n",
       "    <tr>\n",
       "      <th>4</th>\n",
       "      <td>4</td>\n",
       "      <td>0</td>\n",
       "      <td>0</td>\n",
       "    </tr>\n",
       "  </tbody>\n",
       "</table>\n",
       "</div>"
      ],
      "text/plain": [
       "   respondent_id  h1n1_vaccine  seasonal_vaccine\n",
       "0              0             0                 0\n",
       "1              1             0                 1\n",
       "2              2             0                 0\n",
       "3              3             0                 1\n",
       "4              4             0                 0"
      ]
     },
     "execution_count": 4,
     "metadata": {},
     "output_type": "execute_result"
    }
   ],
   "source": [
    "# viewing the first five rows of the datasets\n",
    "test.head()\n",
    "features.head()\n",
    "labels.head()"
   ]
  },
  {
   "cell_type": "markdown",
   "id": "bf27c6d2",
   "metadata": {},
   "source": [
    "It is clear that all files share a similar \"respondent_id\" column. I will therefore merge the two training dataframes."
   ]
  },
  {
   "cell_type": "code",
   "execution_count": 5,
   "id": "572d2434",
   "metadata": {},
   "outputs": [
    {
     "data": {
      "application/vnd.microsoft.datawrangler.viewer.v0+json": {
       "columns": [
        {
         "name": "index",
         "rawType": "int64",
         "type": "integer"
        },
        {
         "name": "respondent_id",
         "rawType": "int64",
         "type": "integer"
        },
        {
         "name": "h1n1_concern",
         "rawType": "float64",
         "type": "float"
        },
        {
         "name": "h1n1_knowledge",
         "rawType": "float64",
         "type": "float"
        },
        {
         "name": "behavioral_antiviral_meds",
         "rawType": "float64",
         "type": "float"
        },
        {
         "name": "behavioral_avoidance",
         "rawType": "float64",
         "type": "float"
        },
        {
         "name": "behavioral_face_mask",
         "rawType": "float64",
         "type": "float"
        },
        {
         "name": "behavioral_wash_hands",
         "rawType": "float64",
         "type": "float"
        },
        {
         "name": "behavioral_large_gatherings",
         "rawType": "float64",
         "type": "float"
        },
        {
         "name": "behavioral_outside_home",
         "rawType": "float64",
         "type": "float"
        },
        {
         "name": "behavioral_touch_face",
         "rawType": "float64",
         "type": "float"
        },
        {
         "name": "doctor_recc_h1n1",
         "rawType": "float64",
         "type": "float"
        },
        {
         "name": "doctor_recc_seasonal",
         "rawType": "float64",
         "type": "float"
        },
        {
         "name": "chronic_med_condition",
         "rawType": "float64",
         "type": "float"
        },
        {
         "name": "child_under_6_months",
         "rawType": "float64",
         "type": "float"
        },
        {
         "name": "health_worker",
         "rawType": "float64",
         "type": "float"
        },
        {
         "name": "health_insurance",
         "rawType": "float64",
         "type": "float"
        },
        {
         "name": "opinion_h1n1_vacc_effective",
         "rawType": "float64",
         "type": "float"
        },
        {
         "name": "opinion_h1n1_risk",
         "rawType": "float64",
         "type": "float"
        },
        {
         "name": "opinion_h1n1_sick_from_vacc",
         "rawType": "float64",
         "type": "float"
        },
        {
         "name": "opinion_seas_vacc_effective",
         "rawType": "float64",
         "type": "float"
        },
        {
         "name": "opinion_seas_risk",
         "rawType": "float64",
         "type": "float"
        },
        {
         "name": "opinion_seas_sick_from_vacc",
         "rawType": "float64",
         "type": "float"
        },
        {
         "name": "age_group",
         "rawType": "object",
         "type": "string"
        },
        {
         "name": "education",
         "rawType": "object",
         "type": "string"
        },
        {
         "name": "race",
         "rawType": "object",
         "type": "string"
        },
        {
         "name": "sex",
         "rawType": "object",
         "type": "string"
        },
        {
         "name": "income_poverty",
         "rawType": "object",
         "type": "string"
        },
        {
         "name": "marital_status",
         "rawType": "object",
         "type": "string"
        },
        {
         "name": "rent_or_own",
         "rawType": "object",
         "type": "string"
        },
        {
         "name": "employment_status",
         "rawType": "object",
         "type": "string"
        },
        {
         "name": "hhs_geo_region",
         "rawType": "object",
         "type": "string"
        },
        {
         "name": "census_msa",
         "rawType": "object",
         "type": "string"
        },
        {
         "name": "household_adults",
         "rawType": "float64",
         "type": "float"
        },
        {
         "name": "household_children",
         "rawType": "float64",
         "type": "float"
        },
        {
         "name": "employment_industry",
         "rawType": "object",
         "type": "unknown"
        },
        {
         "name": "employment_occupation",
         "rawType": "object",
         "type": "unknown"
        },
        {
         "name": "h1n1_vaccine",
         "rawType": "int64",
         "type": "integer"
        },
        {
         "name": "seasonal_vaccine",
         "rawType": "int64",
         "type": "integer"
        }
       ],
       "ref": "27a60075-05ec-4c77-b5e0-3d12e42f8933",
       "rows": [
        [
         "0",
         "0",
         "1.0",
         "0.0",
         "0.0",
         "0.0",
         "0.0",
         "0.0",
         "0.0",
         "1.0",
         "1.0",
         "0.0",
         "0.0",
         "0.0",
         "0.0",
         "0.0",
         "1.0",
         "3.0",
         "1.0",
         "2.0",
         "2.0",
         "1.0",
         "2.0",
         "55 - 64 Years",
         "< 12 Years",
         "White",
         "Female",
         "Below Poverty",
         "Not Married",
         "Own",
         "Not in Labor Force",
         "oxchjgsf",
         "Non-MSA",
         "0.0",
         "0.0",
         null,
         null,
         "0",
         "0"
        ],
        [
         "1",
         "1",
         "3.0",
         "2.0",
         "0.0",
         "1.0",
         "0.0",
         "1.0",
         "0.0",
         "1.0",
         "1.0",
         "0.0",
         "0.0",
         "0.0",
         "0.0",
         "0.0",
         "1.0",
         "5.0",
         "4.0",
         "4.0",
         "4.0",
         "2.0",
         "4.0",
         "35 - 44 Years",
         "12 Years",
         "White",
         "Male",
         "Below Poverty",
         "Not Married",
         "Rent",
         "Employed",
         "bhuqouqj",
         "MSA, Not Principle  City",
         "0.0",
         "0.0",
         "pxcmvdjn",
         "xgwztkwe",
         "0",
         "1"
        ],
        [
         "2",
         "2",
         "1.0",
         "1.0",
         "0.0",
         "1.0",
         "0.0",
         "0.0",
         "0.0",
         "0.0",
         "0.0",
         null,
         null,
         "1.0",
         "0.0",
         "0.0",
         null,
         "3.0",
         "1.0",
         "1.0",
         "4.0",
         "1.0",
         "2.0",
         "18 - 34 Years",
         "College Graduate",
         "White",
         "Male",
         "<= $75,000, Above Poverty",
         "Not Married",
         "Own",
         "Employed",
         "qufhixun",
         "MSA, Not Principle  City",
         "2.0",
         "0.0",
         "rucpziij",
         "xtkaffoo",
         "0",
         "0"
        ],
        [
         "3",
         "3",
         "1.0",
         "1.0",
         "0.0",
         "1.0",
         "0.0",
         "1.0",
         "1.0",
         "0.0",
         "0.0",
         "0.0",
         "1.0",
         "1.0",
         "0.0",
         "0.0",
         null,
         "3.0",
         "3.0",
         "5.0",
         "5.0",
         "4.0",
         "1.0",
         "65+ Years",
         "12 Years",
         "White",
         "Female",
         "Below Poverty",
         "Not Married",
         "Rent",
         "Not in Labor Force",
         "lrircsnp",
         "MSA, Principle City",
         "0.0",
         "0.0",
         null,
         null,
         "0",
         "1"
        ],
        [
         "4",
         "4",
         "2.0",
         "1.0",
         "0.0",
         "1.0",
         "0.0",
         "1.0",
         "1.0",
         "0.0",
         "1.0",
         "0.0",
         "0.0",
         "0.0",
         "0.0",
         "0.0",
         null,
         "3.0",
         "3.0",
         "2.0",
         "3.0",
         "1.0",
         "4.0",
         "45 - 54 Years",
         "Some College",
         "White",
         "Female",
         "<= $75,000, Above Poverty",
         "Married",
         "Own",
         "Employed",
         "qufhixun",
         "MSA, Not Principle  City",
         "1.0",
         "0.0",
         "wxleyezf",
         "emcorrxb",
         "0",
         "0"
        ]
       ],
       "shape": {
        "columns": 38,
        "rows": 5
       }
      },
      "text/html": [
       "<div>\n",
       "<style scoped>\n",
       "    .dataframe tbody tr th:only-of-type {\n",
       "        vertical-align: middle;\n",
       "    }\n",
       "\n",
       "    .dataframe tbody tr th {\n",
       "        vertical-align: top;\n",
       "    }\n",
       "\n",
       "    .dataframe thead th {\n",
       "        text-align: right;\n",
       "    }\n",
       "</style>\n",
       "<table border=\"1\" class=\"dataframe\">\n",
       "  <thead>\n",
       "    <tr style=\"text-align: right;\">\n",
       "      <th></th>\n",
       "      <th>respondent_id</th>\n",
       "      <th>h1n1_concern</th>\n",
       "      <th>h1n1_knowledge</th>\n",
       "      <th>behavioral_antiviral_meds</th>\n",
       "      <th>behavioral_avoidance</th>\n",
       "      <th>behavioral_face_mask</th>\n",
       "      <th>behavioral_wash_hands</th>\n",
       "      <th>behavioral_large_gatherings</th>\n",
       "      <th>behavioral_outside_home</th>\n",
       "      <th>behavioral_touch_face</th>\n",
       "      <th>...</th>\n",
       "      <th>rent_or_own</th>\n",
       "      <th>employment_status</th>\n",
       "      <th>hhs_geo_region</th>\n",
       "      <th>census_msa</th>\n",
       "      <th>household_adults</th>\n",
       "      <th>household_children</th>\n",
       "      <th>employment_industry</th>\n",
       "      <th>employment_occupation</th>\n",
       "      <th>h1n1_vaccine</th>\n",
       "      <th>seasonal_vaccine</th>\n",
       "    </tr>\n",
       "  </thead>\n",
       "  <tbody>\n",
       "    <tr>\n",
       "      <th>0</th>\n",
       "      <td>0</td>\n",
       "      <td>1.0</td>\n",
       "      <td>0.0</td>\n",
       "      <td>0.0</td>\n",
       "      <td>0.0</td>\n",
       "      <td>0.0</td>\n",
       "      <td>0.0</td>\n",
       "      <td>0.0</td>\n",
       "      <td>1.0</td>\n",
       "      <td>1.0</td>\n",
       "      <td>...</td>\n",
       "      <td>Own</td>\n",
       "      <td>Not in Labor Force</td>\n",
       "      <td>oxchjgsf</td>\n",
       "      <td>Non-MSA</td>\n",
       "      <td>0.0</td>\n",
       "      <td>0.0</td>\n",
       "      <td>NaN</td>\n",
       "      <td>NaN</td>\n",
       "      <td>0</td>\n",
       "      <td>0</td>\n",
       "    </tr>\n",
       "    <tr>\n",
       "      <th>1</th>\n",
       "      <td>1</td>\n",
       "      <td>3.0</td>\n",
       "      <td>2.0</td>\n",
       "      <td>0.0</td>\n",
       "      <td>1.0</td>\n",
       "      <td>0.0</td>\n",
       "      <td>1.0</td>\n",
       "      <td>0.0</td>\n",
       "      <td>1.0</td>\n",
       "      <td>1.0</td>\n",
       "      <td>...</td>\n",
       "      <td>Rent</td>\n",
       "      <td>Employed</td>\n",
       "      <td>bhuqouqj</td>\n",
       "      <td>MSA, Not Principle  City</td>\n",
       "      <td>0.0</td>\n",
       "      <td>0.0</td>\n",
       "      <td>pxcmvdjn</td>\n",
       "      <td>xgwztkwe</td>\n",
       "      <td>0</td>\n",
       "      <td>1</td>\n",
       "    </tr>\n",
       "    <tr>\n",
       "      <th>2</th>\n",
       "      <td>2</td>\n",
       "      <td>1.0</td>\n",
       "      <td>1.0</td>\n",
       "      <td>0.0</td>\n",
       "      <td>1.0</td>\n",
       "      <td>0.0</td>\n",
       "      <td>0.0</td>\n",
       "      <td>0.0</td>\n",
       "      <td>0.0</td>\n",
       "      <td>0.0</td>\n",
       "      <td>...</td>\n",
       "      <td>Own</td>\n",
       "      <td>Employed</td>\n",
       "      <td>qufhixun</td>\n",
       "      <td>MSA, Not Principle  City</td>\n",
       "      <td>2.0</td>\n",
       "      <td>0.0</td>\n",
       "      <td>rucpziij</td>\n",
       "      <td>xtkaffoo</td>\n",
       "      <td>0</td>\n",
       "      <td>0</td>\n",
       "    </tr>\n",
       "    <tr>\n",
       "      <th>3</th>\n",
       "      <td>3</td>\n",
       "      <td>1.0</td>\n",
       "      <td>1.0</td>\n",
       "      <td>0.0</td>\n",
       "      <td>1.0</td>\n",
       "      <td>0.0</td>\n",
       "      <td>1.0</td>\n",
       "      <td>1.0</td>\n",
       "      <td>0.0</td>\n",
       "      <td>0.0</td>\n",
       "      <td>...</td>\n",
       "      <td>Rent</td>\n",
       "      <td>Not in Labor Force</td>\n",
       "      <td>lrircsnp</td>\n",
       "      <td>MSA, Principle City</td>\n",
       "      <td>0.0</td>\n",
       "      <td>0.0</td>\n",
       "      <td>NaN</td>\n",
       "      <td>NaN</td>\n",
       "      <td>0</td>\n",
       "      <td>1</td>\n",
       "    </tr>\n",
       "    <tr>\n",
       "      <th>4</th>\n",
       "      <td>4</td>\n",
       "      <td>2.0</td>\n",
       "      <td>1.0</td>\n",
       "      <td>0.0</td>\n",
       "      <td>1.0</td>\n",
       "      <td>0.0</td>\n",
       "      <td>1.0</td>\n",
       "      <td>1.0</td>\n",
       "      <td>0.0</td>\n",
       "      <td>1.0</td>\n",
       "      <td>...</td>\n",
       "      <td>Own</td>\n",
       "      <td>Employed</td>\n",
       "      <td>qufhixun</td>\n",
       "      <td>MSA, Not Principle  City</td>\n",
       "      <td>1.0</td>\n",
       "      <td>0.0</td>\n",
       "      <td>wxleyezf</td>\n",
       "      <td>emcorrxb</td>\n",
       "      <td>0</td>\n",
       "      <td>0</td>\n",
       "    </tr>\n",
       "  </tbody>\n",
       "</table>\n",
       "<p>5 rows × 38 columns</p>\n",
       "</div>"
      ],
      "text/plain": [
       "   respondent_id  h1n1_concern  h1n1_knowledge  behavioral_antiviral_meds  \\\n",
       "0              0           1.0             0.0                        0.0   \n",
       "1              1           3.0             2.0                        0.0   \n",
       "2              2           1.0             1.0                        0.0   \n",
       "3              3           1.0             1.0                        0.0   \n",
       "4              4           2.0             1.0                        0.0   \n",
       "\n",
       "   behavioral_avoidance  behavioral_face_mask  behavioral_wash_hands  \\\n",
       "0                   0.0                   0.0                    0.0   \n",
       "1                   1.0                   0.0                    1.0   \n",
       "2                   1.0                   0.0                    0.0   \n",
       "3                   1.0                   0.0                    1.0   \n",
       "4                   1.0                   0.0                    1.0   \n",
       "\n",
       "   behavioral_large_gatherings  behavioral_outside_home  \\\n",
       "0                          0.0                      1.0   \n",
       "1                          0.0                      1.0   \n",
       "2                          0.0                      0.0   \n",
       "3                          1.0                      0.0   \n",
       "4                          1.0                      0.0   \n",
       "\n",
       "   behavioral_touch_face  ...  rent_or_own   employment_status  \\\n",
       "0                    1.0  ...          Own  Not in Labor Force   \n",
       "1                    1.0  ...         Rent            Employed   \n",
       "2                    0.0  ...          Own            Employed   \n",
       "3                    0.0  ...         Rent  Not in Labor Force   \n",
       "4                    1.0  ...          Own            Employed   \n",
       "\n",
       "   hhs_geo_region                census_msa  household_adults  \\\n",
       "0        oxchjgsf                   Non-MSA               0.0   \n",
       "1        bhuqouqj  MSA, Not Principle  City               0.0   \n",
       "2        qufhixun  MSA, Not Principle  City               2.0   \n",
       "3        lrircsnp       MSA, Principle City               0.0   \n",
       "4        qufhixun  MSA, Not Principle  City               1.0   \n",
       "\n",
       "   household_children  employment_industry  employment_occupation  \\\n",
       "0                 0.0                  NaN                    NaN   \n",
       "1                 0.0             pxcmvdjn               xgwztkwe   \n",
       "2                 0.0             rucpziij               xtkaffoo   \n",
       "3                 0.0                  NaN                    NaN   \n",
       "4                 0.0             wxleyezf               emcorrxb   \n",
       "\n",
       "   h1n1_vaccine  seasonal_vaccine  \n",
       "0             0                 0  \n",
       "1             0                 1  \n",
       "2             0                 0  \n",
       "3             0                 1  \n",
       "4             0                 0  \n",
       "\n",
       "[5 rows x 38 columns]"
      ]
     },
     "execution_count": 5,
     "metadata": {},
     "output_type": "execute_result"
    }
   ],
   "source": [
    "# joining the two dataframes\n",
    "data = pd.merge(features, labels, on='respondent_id')\n",
    "data.head()"
   ]
  },
  {
   "cell_type": "code",
   "execution_count": 6,
   "id": "92996258",
   "metadata": {},
   "outputs": [
    {
     "data": {
      "text/plain": [
       "(26707, 38)"
      ]
     },
     "execution_count": 6,
     "metadata": {},
     "output_type": "execute_result"
    }
   ],
   "source": [
    "# viewing number of rows and columns\n",
    "data.shape"
   ]
  },
  {
   "cell_type": "code",
   "execution_count": 7,
   "id": "ddf54807",
   "metadata": {},
   "outputs": [
    {
     "data": {
      "application/vnd.microsoft.datawrangler.viewer.v0+json": {
       "columns": [
        {
         "name": "index",
         "rawType": "object",
         "type": "string"
        },
        {
         "name": "0",
         "rawType": "object",
         "type": "unknown"
        }
       ],
       "ref": "29df19b2-d2d6-4ff5-ade6-74fc43f8caa4",
       "rows": [
        [
         "respondent_id",
         "int64"
        ],
        [
         "h1n1_concern",
         "float64"
        ],
        [
         "h1n1_knowledge",
         "float64"
        ],
        [
         "behavioral_antiviral_meds",
         "float64"
        ],
        [
         "behavioral_avoidance",
         "float64"
        ],
        [
         "behavioral_face_mask",
         "float64"
        ],
        [
         "behavioral_wash_hands",
         "float64"
        ],
        [
         "behavioral_large_gatherings",
         "float64"
        ],
        [
         "behavioral_outside_home",
         "float64"
        ],
        [
         "behavioral_touch_face",
         "float64"
        ],
        [
         "doctor_recc_h1n1",
         "float64"
        ],
        [
         "doctor_recc_seasonal",
         "float64"
        ],
        [
         "chronic_med_condition",
         "float64"
        ],
        [
         "child_under_6_months",
         "float64"
        ],
        [
         "health_worker",
         "float64"
        ],
        [
         "health_insurance",
         "float64"
        ],
        [
         "opinion_h1n1_vacc_effective",
         "float64"
        ],
        [
         "opinion_h1n1_risk",
         "float64"
        ],
        [
         "opinion_h1n1_sick_from_vacc",
         "float64"
        ],
        [
         "opinion_seas_vacc_effective",
         "float64"
        ],
        [
         "opinion_seas_risk",
         "float64"
        ],
        [
         "opinion_seas_sick_from_vacc",
         "float64"
        ],
        [
         "age_group",
         "object"
        ],
        [
         "education",
         "object"
        ],
        [
         "race",
         "object"
        ],
        [
         "sex",
         "object"
        ],
        [
         "income_poverty",
         "object"
        ],
        [
         "marital_status",
         "object"
        ],
        [
         "rent_or_own",
         "object"
        ],
        [
         "employment_status",
         "object"
        ],
        [
         "hhs_geo_region",
         "object"
        ],
        [
         "census_msa",
         "object"
        ],
        [
         "household_adults",
         "float64"
        ],
        [
         "household_children",
         "float64"
        ],
        [
         "employment_industry",
         "object"
        ],
        [
         "employment_occupation",
         "object"
        ],
        [
         "h1n1_vaccine",
         "int64"
        ],
        [
         "seasonal_vaccine",
         "int64"
        ]
       ],
       "shape": {
        "columns": 1,
        "rows": 38
       }
      },
      "text/plain": [
       "respondent_id                    int64\n",
       "h1n1_concern                   float64\n",
       "h1n1_knowledge                 float64\n",
       "behavioral_antiviral_meds      float64\n",
       "behavioral_avoidance           float64\n",
       "behavioral_face_mask           float64\n",
       "behavioral_wash_hands          float64\n",
       "behavioral_large_gatherings    float64\n",
       "behavioral_outside_home        float64\n",
       "behavioral_touch_face          float64\n",
       "doctor_recc_h1n1               float64\n",
       "doctor_recc_seasonal           float64\n",
       "chronic_med_condition          float64\n",
       "child_under_6_months           float64\n",
       "health_worker                  float64\n",
       "health_insurance               float64\n",
       "opinion_h1n1_vacc_effective    float64\n",
       "opinion_h1n1_risk              float64\n",
       "opinion_h1n1_sick_from_vacc    float64\n",
       "opinion_seas_vacc_effective    float64\n",
       "opinion_seas_risk              float64\n",
       "opinion_seas_sick_from_vacc    float64\n",
       "age_group                       object\n",
       "education                       object\n",
       "race                            object\n",
       "sex                             object\n",
       "income_poverty                  object\n",
       "marital_status                  object\n",
       "rent_or_own                     object\n",
       "employment_status               object\n",
       "hhs_geo_region                  object\n",
       "census_msa                      object\n",
       "household_adults               float64\n",
       "household_children             float64\n",
       "employment_industry             object\n",
       "employment_occupation           object\n",
       "h1n1_vaccine                     int64\n",
       "seasonal_vaccine                 int64\n",
       "dtype: object"
      ]
     },
     "execution_count": 7,
     "metadata": {},
     "output_type": "execute_result"
    }
   ],
   "source": [
    "# viewing the datatypes\n",
    "data.dtypes"
   ]
  },
  {
   "cell_type": "code",
   "execution_count": 8,
   "id": "1b8829bd",
   "metadata": {},
   "outputs": [
    {
     "data": {
      "application/vnd.microsoft.datawrangler.viewer.v0+json": {
       "columns": [
        {
         "name": "index",
         "rawType": "object",
         "type": "string"
        },
        {
         "name": "respondent_id",
         "rawType": "float64",
         "type": "float"
        },
        {
         "name": "h1n1_concern",
         "rawType": "float64",
         "type": "float"
        },
        {
         "name": "h1n1_knowledge",
         "rawType": "float64",
         "type": "float"
        },
        {
         "name": "behavioral_antiviral_meds",
         "rawType": "float64",
         "type": "float"
        },
        {
         "name": "behavioral_avoidance",
         "rawType": "float64",
         "type": "float"
        },
        {
         "name": "behavioral_face_mask",
         "rawType": "float64",
         "type": "float"
        },
        {
         "name": "behavioral_wash_hands",
         "rawType": "float64",
         "type": "float"
        },
        {
         "name": "behavioral_large_gatherings",
         "rawType": "float64",
         "type": "float"
        },
        {
         "name": "behavioral_outside_home",
         "rawType": "float64",
         "type": "float"
        },
        {
         "name": "behavioral_touch_face",
         "rawType": "float64",
         "type": "float"
        },
        {
         "name": "doctor_recc_h1n1",
         "rawType": "float64",
         "type": "float"
        },
        {
         "name": "doctor_recc_seasonal",
         "rawType": "float64",
         "type": "float"
        },
        {
         "name": "chronic_med_condition",
         "rawType": "float64",
         "type": "float"
        },
        {
         "name": "child_under_6_months",
         "rawType": "float64",
         "type": "float"
        },
        {
         "name": "health_worker",
         "rawType": "float64",
         "type": "float"
        },
        {
         "name": "health_insurance",
         "rawType": "float64",
         "type": "float"
        },
        {
         "name": "opinion_h1n1_vacc_effective",
         "rawType": "float64",
         "type": "float"
        },
        {
         "name": "opinion_h1n1_risk",
         "rawType": "float64",
         "type": "float"
        },
        {
         "name": "opinion_h1n1_sick_from_vacc",
         "rawType": "float64",
         "type": "float"
        },
        {
         "name": "opinion_seas_vacc_effective",
         "rawType": "float64",
         "type": "float"
        },
        {
         "name": "opinion_seas_risk",
         "rawType": "float64",
         "type": "float"
        },
        {
         "name": "opinion_seas_sick_from_vacc",
         "rawType": "float64",
         "type": "float"
        },
        {
         "name": "household_adults",
         "rawType": "float64",
         "type": "float"
        },
        {
         "name": "household_children",
         "rawType": "float64",
         "type": "float"
        },
        {
         "name": "h1n1_vaccine",
         "rawType": "float64",
         "type": "float"
        },
        {
         "name": "seasonal_vaccine",
         "rawType": "float64",
         "type": "float"
        }
       ],
       "ref": "9f488263-a79e-464a-bd29-4ec50275b143",
       "rows": [
        [
         "count",
         "26707.0",
         "26615.0",
         "26591.0",
         "26636.0",
         "26499.0",
         "26688.0",
         "26665.0",
         "26620.0",
         "26625.0",
         "26579.0",
         "24547.0",
         "24547.0",
         "25736.0",
         "25887.0",
         "25903.0",
         "14433.0",
         "26316.0",
         "26319.0",
         "26312.0",
         "26245.0",
         "26193.0",
         "26170.0",
         "26458.0",
         "26458.0",
         "26707.0",
         "26707.0"
        ],
        [
         "mean",
         "13353.0",
         "1.6184858162690212",
         "1.2625324357865444",
         "0.048843670220753865",
         "0.7256122872561229",
         "0.06898231414868106",
         "0.825614100881305",
         "0.3586401202103681",
         "0.33731455399061033",
         "0.6772640054178111",
         "0.2203120544262028",
         "0.32973479447590337",
         "0.28326080198943115",
         "0.0825897168462935",
         "0.111917538509053",
         "0.8797200859142243",
         "3.85062319501444",
         "2.3425662069227555",
         "2.357669504408635",
         "4.025985902076586",
         "2.719161608063223",
         "2.1181123423767674",
         "0.8864993574722201",
         "0.5345831128581148",
         "0.2124536638334519",
         "0.4656082674954132"
        ],
        [
         "std",
         "7709.791155839869",
         "0.9103106893546644",
         "0.6181491336862217",
         "0.21554514688375573",
         "0.44621363670282804",
         "0.2534288086212143",
         "0.37944809516832506",
         "0.47961028500620967",
         "0.47280211674064915",
         "0.4675314923973022",
         "0.4144655005809335",
         "0.4701263273728405",
         "0.4505907334523557",
         "0.27526638467206027",
         "0.315271058481258",
         "0.32529984346987095",
         "1.0074357743449702",
         "1.2855392866937079",
         "1.362765917171538",
         "1.08656490358196",
         "1.3850551813594099",
         "1.3329499250471024",
         "0.7534215353448208",
         "0.9281733165470456",
         "0.40905179342904574",
         "0.49882514535479133"
        ],
        [
         "min",
         "0.0",
         "0.0",
         "0.0",
         "0.0",
         "0.0",
         "0.0",
         "0.0",
         "0.0",
         "0.0",
         "0.0",
         "0.0",
         "0.0",
         "0.0",
         "0.0",
         "0.0",
         "0.0",
         "1.0",
         "1.0",
         "1.0",
         "1.0",
         "1.0",
         "1.0",
         "0.0",
         "0.0",
         "0.0",
         "0.0"
        ],
        [
         "25%",
         "6676.5",
         "1.0",
         "1.0",
         "0.0",
         "0.0",
         "0.0",
         "1.0",
         "0.0",
         "0.0",
         "0.0",
         "0.0",
         "0.0",
         "0.0",
         "0.0",
         "0.0",
         "1.0",
         "3.0",
         "1.0",
         "1.0",
         "4.0",
         "2.0",
         "1.0",
         "0.0",
         "0.0",
         "0.0",
         "0.0"
        ],
        [
         "50%",
         "13353.0",
         "2.0",
         "1.0",
         "0.0",
         "1.0",
         "0.0",
         "1.0",
         "0.0",
         "0.0",
         "1.0",
         "0.0",
         "0.0",
         "0.0",
         "0.0",
         "0.0",
         "1.0",
         "4.0",
         "2.0",
         "2.0",
         "4.0",
         "2.0",
         "2.0",
         "1.0",
         "0.0",
         "0.0",
         "0.0"
        ],
        [
         "75%",
         "20029.5",
         "2.0",
         "2.0",
         "0.0",
         "1.0",
         "0.0",
         "1.0",
         "1.0",
         "1.0",
         "1.0",
         "0.0",
         "1.0",
         "1.0",
         "0.0",
         "0.0",
         "1.0",
         "5.0",
         "4.0",
         "4.0",
         "5.0",
         "4.0",
         "4.0",
         "1.0",
         "1.0",
         "0.0",
         "1.0"
        ],
        [
         "max",
         "26706.0",
         "3.0",
         "2.0",
         "1.0",
         "1.0",
         "1.0",
         "1.0",
         "1.0",
         "1.0",
         "1.0",
         "1.0",
         "1.0",
         "1.0",
         "1.0",
         "1.0",
         "1.0",
         "5.0",
         "5.0",
         "5.0",
         "5.0",
         "5.0",
         "5.0",
         "3.0",
         "3.0",
         "1.0",
         "1.0"
        ]
       ],
       "shape": {
        "columns": 26,
        "rows": 8
       }
      },
      "text/html": [
       "<div>\n",
       "<style scoped>\n",
       "    .dataframe tbody tr th:only-of-type {\n",
       "        vertical-align: middle;\n",
       "    }\n",
       "\n",
       "    .dataframe tbody tr th {\n",
       "        vertical-align: top;\n",
       "    }\n",
       "\n",
       "    .dataframe thead th {\n",
       "        text-align: right;\n",
       "    }\n",
       "</style>\n",
       "<table border=\"1\" class=\"dataframe\">\n",
       "  <thead>\n",
       "    <tr style=\"text-align: right;\">\n",
       "      <th></th>\n",
       "      <th>respondent_id</th>\n",
       "      <th>h1n1_concern</th>\n",
       "      <th>h1n1_knowledge</th>\n",
       "      <th>behavioral_antiviral_meds</th>\n",
       "      <th>behavioral_avoidance</th>\n",
       "      <th>behavioral_face_mask</th>\n",
       "      <th>behavioral_wash_hands</th>\n",
       "      <th>behavioral_large_gatherings</th>\n",
       "      <th>behavioral_outside_home</th>\n",
       "      <th>behavioral_touch_face</th>\n",
       "      <th>...</th>\n",
       "      <th>opinion_h1n1_vacc_effective</th>\n",
       "      <th>opinion_h1n1_risk</th>\n",
       "      <th>opinion_h1n1_sick_from_vacc</th>\n",
       "      <th>opinion_seas_vacc_effective</th>\n",
       "      <th>opinion_seas_risk</th>\n",
       "      <th>opinion_seas_sick_from_vacc</th>\n",
       "      <th>household_adults</th>\n",
       "      <th>household_children</th>\n",
       "      <th>h1n1_vaccine</th>\n",
       "      <th>seasonal_vaccine</th>\n",
       "    </tr>\n",
       "  </thead>\n",
       "  <tbody>\n",
       "    <tr>\n",
       "      <th>count</th>\n",
       "      <td>26707.000000</td>\n",
       "      <td>26615.000000</td>\n",
       "      <td>26591.000000</td>\n",
       "      <td>26636.000000</td>\n",
       "      <td>26499.000000</td>\n",
       "      <td>26688.000000</td>\n",
       "      <td>26665.000000</td>\n",
       "      <td>26620.00000</td>\n",
       "      <td>26625.000000</td>\n",
       "      <td>26579.000000</td>\n",
       "      <td>...</td>\n",
       "      <td>26316.000000</td>\n",
       "      <td>26319.000000</td>\n",
       "      <td>26312.000000</td>\n",
       "      <td>26245.000000</td>\n",
       "      <td>26193.000000</td>\n",
       "      <td>26170.000000</td>\n",
       "      <td>26458.000000</td>\n",
       "      <td>26458.000000</td>\n",
       "      <td>26707.000000</td>\n",
       "      <td>26707.000000</td>\n",
       "    </tr>\n",
       "    <tr>\n",
       "      <th>mean</th>\n",
       "      <td>13353.000000</td>\n",
       "      <td>1.618486</td>\n",
       "      <td>1.262532</td>\n",
       "      <td>0.048844</td>\n",
       "      <td>0.725612</td>\n",
       "      <td>0.068982</td>\n",
       "      <td>0.825614</td>\n",
       "      <td>0.35864</td>\n",
       "      <td>0.337315</td>\n",
       "      <td>0.677264</td>\n",
       "      <td>...</td>\n",
       "      <td>3.850623</td>\n",
       "      <td>2.342566</td>\n",
       "      <td>2.357670</td>\n",
       "      <td>4.025986</td>\n",
       "      <td>2.719162</td>\n",
       "      <td>2.118112</td>\n",
       "      <td>0.886499</td>\n",
       "      <td>0.534583</td>\n",
       "      <td>0.212454</td>\n",
       "      <td>0.465608</td>\n",
       "    </tr>\n",
       "    <tr>\n",
       "      <th>std</th>\n",
       "      <td>7709.791156</td>\n",
       "      <td>0.910311</td>\n",
       "      <td>0.618149</td>\n",
       "      <td>0.215545</td>\n",
       "      <td>0.446214</td>\n",
       "      <td>0.253429</td>\n",
       "      <td>0.379448</td>\n",
       "      <td>0.47961</td>\n",
       "      <td>0.472802</td>\n",
       "      <td>0.467531</td>\n",
       "      <td>...</td>\n",
       "      <td>1.007436</td>\n",
       "      <td>1.285539</td>\n",
       "      <td>1.362766</td>\n",
       "      <td>1.086565</td>\n",
       "      <td>1.385055</td>\n",
       "      <td>1.332950</td>\n",
       "      <td>0.753422</td>\n",
       "      <td>0.928173</td>\n",
       "      <td>0.409052</td>\n",
       "      <td>0.498825</td>\n",
       "    </tr>\n",
       "    <tr>\n",
       "      <th>min</th>\n",
       "      <td>0.000000</td>\n",
       "      <td>0.000000</td>\n",
       "      <td>0.000000</td>\n",
       "      <td>0.000000</td>\n",
       "      <td>0.000000</td>\n",
       "      <td>0.000000</td>\n",
       "      <td>0.000000</td>\n",
       "      <td>0.00000</td>\n",
       "      <td>0.000000</td>\n",
       "      <td>0.000000</td>\n",
       "      <td>...</td>\n",
       "      <td>1.000000</td>\n",
       "      <td>1.000000</td>\n",
       "      <td>1.000000</td>\n",
       "      <td>1.000000</td>\n",
       "      <td>1.000000</td>\n",
       "      <td>1.000000</td>\n",
       "      <td>0.000000</td>\n",
       "      <td>0.000000</td>\n",
       "      <td>0.000000</td>\n",
       "      <td>0.000000</td>\n",
       "    </tr>\n",
       "    <tr>\n",
       "      <th>25%</th>\n",
       "      <td>6676.500000</td>\n",
       "      <td>1.000000</td>\n",
       "      <td>1.000000</td>\n",
       "      <td>0.000000</td>\n",
       "      <td>0.000000</td>\n",
       "      <td>0.000000</td>\n",
       "      <td>1.000000</td>\n",
       "      <td>0.00000</td>\n",
       "      <td>0.000000</td>\n",
       "      <td>0.000000</td>\n",
       "      <td>...</td>\n",
       "      <td>3.000000</td>\n",
       "      <td>1.000000</td>\n",
       "      <td>1.000000</td>\n",
       "      <td>4.000000</td>\n",
       "      <td>2.000000</td>\n",
       "      <td>1.000000</td>\n",
       "      <td>0.000000</td>\n",
       "      <td>0.000000</td>\n",
       "      <td>0.000000</td>\n",
       "      <td>0.000000</td>\n",
       "    </tr>\n",
       "    <tr>\n",
       "      <th>50%</th>\n",
       "      <td>13353.000000</td>\n",
       "      <td>2.000000</td>\n",
       "      <td>1.000000</td>\n",
       "      <td>0.000000</td>\n",
       "      <td>1.000000</td>\n",
       "      <td>0.000000</td>\n",
       "      <td>1.000000</td>\n",
       "      <td>0.00000</td>\n",
       "      <td>0.000000</td>\n",
       "      <td>1.000000</td>\n",
       "      <td>...</td>\n",
       "      <td>4.000000</td>\n",
       "      <td>2.000000</td>\n",
       "      <td>2.000000</td>\n",
       "      <td>4.000000</td>\n",
       "      <td>2.000000</td>\n",
       "      <td>2.000000</td>\n",
       "      <td>1.000000</td>\n",
       "      <td>0.000000</td>\n",
       "      <td>0.000000</td>\n",
       "      <td>0.000000</td>\n",
       "    </tr>\n",
       "    <tr>\n",
       "      <th>75%</th>\n",
       "      <td>20029.500000</td>\n",
       "      <td>2.000000</td>\n",
       "      <td>2.000000</td>\n",
       "      <td>0.000000</td>\n",
       "      <td>1.000000</td>\n",
       "      <td>0.000000</td>\n",
       "      <td>1.000000</td>\n",
       "      <td>1.00000</td>\n",
       "      <td>1.000000</td>\n",
       "      <td>1.000000</td>\n",
       "      <td>...</td>\n",
       "      <td>5.000000</td>\n",
       "      <td>4.000000</td>\n",
       "      <td>4.000000</td>\n",
       "      <td>5.000000</td>\n",
       "      <td>4.000000</td>\n",
       "      <td>4.000000</td>\n",
       "      <td>1.000000</td>\n",
       "      <td>1.000000</td>\n",
       "      <td>0.000000</td>\n",
       "      <td>1.000000</td>\n",
       "    </tr>\n",
       "    <tr>\n",
       "      <th>max</th>\n",
       "      <td>26706.000000</td>\n",
       "      <td>3.000000</td>\n",
       "      <td>2.000000</td>\n",
       "      <td>1.000000</td>\n",
       "      <td>1.000000</td>\n",
       "      <td>1.000000</td>\n",
       "      <td>1.000000</td>\n",
       "      <td>1.00000</td>\n",
       "      <td>1.000000</td>\n",
       "      <td>1.000000</td>\n",
       "      <td>...</td>\n",
       "      <td>5.000000</td>\n",
       "      <td>5.000000</td>\n",
       "      <td>5.000000</td>\n",
       "      <td>5.000000</td>\n",
       "      <td>5.000000</td>\n",
       "      <td>5.000000</td>\n",
       "      <td>3.000000</td>\n",
       "      <td>3.000000</td>\n",
       "      <td>1.000000</td>\n",
       "      <td>1.000000</td>\n",
       "    </tr>\n",
       "  </tbody>\n",
       "</table>\n",
       "<p>8 rows × 26 columns</p>\n",
       "</div>"
      ],
      "text/plain": [
       "       respondent_id  h1n1_concern  h1n1_knowledge  behavioral_antiviral_meds  \\\n",
       "count   26707.000000  26615.000000    26591.000000               26636.000000   \n",
       "mean    13353.000000      1.618486        1.262532                   0.048844   \n",
       "std      7709.791156      0.910311        0.618149                   0.215545   \n",
       "min         0.000000      0.000000        0.000000                   0.000000   \n",
       "25%      6676.500000      1.000000        1.000000                   0.000000   \n",
       "50%     13353.000000      2.000000        1.000000                   0.000000   \n",
       "75%     20029.500000      2.000000        2.000000                   0.000000   \n",
       "max     26706.000000      3.000000        2.000000                   1.000000   \n",
       "\n",
       "       behavioral_avoidance  behavioral_face_mask  behavioral_wash_hands  \\\n",
       "count          26499.000000          26688.000000           26665.000000   \n",
       "mean               0.725612              0.068982               0.825614   \n",
       "std                0.446214              0.253429               0.379448   \n",
       "min                0.000000              0.000000               0.000000   \n",
       "25%                0.000000              0.000000               1.000000   \n",
       "50%                1.000000              0.000000               1.000000   \n",
       "75%                1.000000              0.000000               1.000000   \n",
       "max                1.000000              1.000000               1.000000   \n",
       "\n",
       "       behavioral_large_gatherings  behavioral_outside_home  \\\n",
       "count                  26620.00000             26625.000000   \n",
       "mean                       0.35864                 0.337315   \n",
       "std                        0.47961                 0.472802   \n",
       "min                        0.00000                 0.000000   \n",
       "25%                        0.00000                 0.000000   \n",
       "50%                        0.00000                 0.000000   \n",
       "75%                        1.00000                 1.000000   \n",
       "max                        1.00000                 1.000000   \n",
       "\n",
       "       behavioral_touch_face  ...  opinion_h1n1_vacc_effective  \\\n",
       "count           26579.000000  ...                 26316.000000   \n",
       "mean                0.677264  ...                     3.850623   \n",
       "std                 0.467531  ...                     1.007436   \n",
       "min                 0.000000  ...                     1.000000   \n",
       "25%                 0.000000  ...                     3.000000   \n",
       "50%                 1.000000  ...                     4.000000   \n",
       "75%                 1.000000  ...                     5.000000   \n",
       "max                 1.000000  ...                     5.000000   \n",
       "\n",
       "       opinion_h1n1_risk  opinion_h1n1_sick_from_vacc  \\\n",
       "count       26319.000000                 26312.000000   \n",
       "mean            2.342566                     2.357670   \n",
       "std             1.285539                     1.362766   \n",
       "min             1.000000                     1.000000   \n",
       "25%             1.000000                     1.000000   \n",
       "50%             2.000000                     2.000000   \n",
       "75%             4.000000                     4.000000   \n",
       "max             5.000000                     5.000000   \n",
       "\n",
       "       opinion_seas_vacc_effective  opinion_seas_risk  \\\n",
       "count                 26245.000000       26193.000000   \n",
       "mean                      4.025986           2.719162   \n",
       "std                       1.086565           1.385055   \n",
       "min                       1.000000           1.000000   \n",
       "25%                       4.000000           2.000000   \n",
       "50%                       4.000000           2.000000   \n",
       "75%                       5.000000           4.000000   \n",
       "max                       5.000000           5.000000   \n",
       "\n",
       "       opinion_seas_sick_from_vacc  household_adults  household_children  \\\n",
       "count                 26170.000000      26458.000000        26458.000000   \n",
       "mean                      2.118112          0.886499            0.534583   \n",
       "std                       1.332950          0.753422            0.928173   \n",
       "min                       1.000000          0.000000            0.000000   \n",
       "25%                       1.000000          0.000000            0.000000   \n",
       "50%                       2.000000          1.000000            0.000000   \n",
       "75%                       4.000000          1.000000            1.000000   \n",
       "max                       5.000000          3.000000            3.000000   \n",
       "\n",
       "       h1n1_vaccine  seasonal_vaccine  \n",
       "count  26707.000000      26707.000000  \n",
       "mean       0.212454          0.465608  \n",
       "std        0.409052          0.498825  \n",
       "min        0.000000          0.000000  \n",
       "25%        0.000000          0.000000  \n",
       "50%        0.000000          0.000000  \n",
       "75%        0.000000          1.000000  \n",
       "max        1.000000          1.000000  \n",
       "\n",
       "[8 rows x 26 columns]"
      ]
     },
     "execution_count": 8,
     "metadata": {},
     "output_type": "execute_result"
    }
   ],
   "source": [
    "# viewing column statistics\n",
    "data.describe()"
   ]
  },
  {
   "cell_type": "code",
   "execution_count": 9,
   "id": "1cc36d08",
   "metadata": {},
   "outputs": [
    {
     "data": {
      "application/vnd.microsoft.datawrangler.viewer.v0+json": {
       "columns": [
        {
         "name": "index",
         "rawType": "object",
         "type": "string"
        },
        {
         "name": "0",
         "rawType": "int64",
         "type": "integer"
        }
       ],
       "ref": "5350dece-ed2d-450d-b3cf-78a75c38185b",
       "rows": [
        [
         "employment_occupation",
         "13470"
        ],
        [
         "employment_industry",
         "13330"
        ],
        [
         "health_insurance",
         "12274"
        ],
        [
         "income_poverty",
         "4423"
        ],
        [
         "doctor_recc_seasonal",
         "2160"
        ],
        [
         "doctor_recc_h1n1",
         "2160"
        ],
        [
         "rent_or_own",
         "2042"
        ],
        [
         "employment_status",
         "1463"
        ],
        [
         "marital_status",
         "1408"
        ],
        [
         "education",
         "1407"
        ],
        [
         "chronic_med_condition",
         "971"
        ],
        [
         "child_under_6_months",
         "820"
        ],
        [
         "health_worker",
         "804"
        ],
        [
         "opinion_seas_sick_from_vacc",
         "537"
        ],
        [
         "opinion_seas_risk",
         "514"
        ],
        [
         "opinion_seas_vacc_effective",
         "462"
        ],
        [
         "opinion_h1n1_sick_from_vacc",
         "395"
        ],
        [
         "opinion_h1n1_vacc_effective",
         "391"
        ],
        [
         "opinion_h1n1_risk",
         "388"
        ],
        [
         "household_children",
         "249"
        ],
        [
         "household_adults",
         "249"
        ],
        [
         "behavioral_avoidance",
         "208"
        ],
        [
         "behavioral_touch_face",
         "128"
        ],
        [
         "h1n1_knowledge",
         "116"
        ],
        [
         "h1n1_concern",
         "92"
        ],
        [
         "behavioral_large_gatherings",
         "87"
        ],
        [
         "behavioral_outside_home",
         "82"
        ],
        [
         "behavioral_antiviral_meds",
         "71"
        ],
        [
         "behavioral_wash_hands",
         "42"
        ],
        [
         "behavioral_face_mask",
         "19"
        ],
        [
         "respondent_id",
         "0"
        ],
        [
         "race",
         "0"
        ],
        [
         "sex",
         "0"
        ],
        [
         "age_group",
         "0"
        ],
        [
         "hhs_geo_region",
         "0"
        ],
        [
         "census_msa",
         "0"
        ],
        [
         "h1n1_vaccine",
         "0"
        ],
        [
         "seasonal_vaccine",
         "0"
        ]
       ],
       "shape": {
        "columns": 1,
        "rows": 38
       }
      },
      "text/html": [
       "<div>\n",
       "<style scoped>\n",
       "    .dataframe tbody tr th:only-of-type {\n",
       "        vertical-align: middle;\n",
       "    }\n",
       "\n",
       "    .dataframe tbody tr th {\n",
       "        vertical-align: top;\n",
       "    }\n",
       "\n",
       "    .dataframe thead th {\n",
       "        text-align: right;\n",
       "    }\n",
       "</style>\n",
       "<table border=\"1\" class=\"dataframe\">\n",
       "  <thead>\n",
       "    <tr style=\"text-align: right;\">\n",
       "      <th></th>\n",
       "      <th>0</th>\n",
       "    </tr>\n",
       "  </thead>\n",
       "  <tbody>\n",
       "    <tr>\n",
       "      <th>employment_occupation</th>\n",
       "      <td>13470</td>\n",
       "    </tr>\n",
       "    <tr>\n",
       "      <th>employment_industry</th>\n",
       "      <td>13330</td>\n",
       "    </tr>\n",
       "    <tr>\n",
       "      <th>health_insurance</th>\n",
       "      <td>12274</td>\n",
       "    </tr>\n",
       "    <tr>\n",
       "      <th>income_poverty</th>\n",
       "      <td>4423</td>\n",
       "    </tr>\n",
       "    <tr>\n",
       "      <th>doctor_recc_seasonal</th>\n",
       "      <td>2160</td>\n",
       "    </tr>\n",
       "    <tr>\n",
       "      <th>doctor_recc_h1n1</th>\n",
       "      <td>2160</td>\n",
       "    </tr>\n",
       "    <tr>\n",
       "      <th>rent_or_own</th>\n",
       "      <td>2042</td>\n",
       "    </tr>\n",
       "    <tr>\n",
       "      <th>employment_status</th>\n",
       "      <td>1463</td>\n",
       "    </tr>\n",
       "    <tr>\n",
       "      <th>marital_status</th>\n",
       "      <td>1408</td>\n",
       "    </tr>\n",
       "    <tr>\n",
       "      <th>education</th>\n",
       "      <td>1407</td>\n",
       "    </tr>\n",
       "    <tr>\n",
       "      <th>chronic_med_condition</th>\n",
       "      <td>971</td>\n",
       "    </tr>\n",
       "    <tr>\n",
       "      <th>child_under_6_months</th>\n",
       "      <td>820</td>\n",
       "    </tr>\n",
       "    <tr>\n",
       "      <th>health_worker</th>\n",
       "      <td>804</td>\n",
       "    </tr>\n",
       "    <tr>\n",
       "      <th>opinion_seas_sick_from_vacc</th>\n",
       "      <td>537</td>\n",
       "    </tr>\n",
       "    <tr>\n",
       "      <th>opinion_seas_risk</th>\n",
       "      <td>514</td>\n",
       "    </tr>\n",
       "    <tr>\n",
       "      <th>opinion_seas_vacc_effective</th>\n",
       "      <td>462</td>\n",
       "    </tr>\n",
       "    <tr>\n",
       "      <th>opinion_h1n1_sick_from_vacc</th>\n",
       "      <td>395</td>\n",
       "    </tr>\n",
       "    <tr>\n",
       "      <th>opinion_h1n1_vacc_effective</th>\n",
       "      <td>391</td>\n",
       "    </tr>\n",
       "    <tr>\n",
       "      <th>opinion_h1n1_risk</th>\n",
       "      <td>388</td>\n",
       "    </tr>\n",
       "    <tr>\n",
       "      <th>household_children</th>\n",
       "      <td>249</td>\n",
       "    </tr>\n",
       "    <tr>\n",
       "      <th>household_adults</th>\n",
       "      <td>249</td>\n",
       "    </tr>\n",
       "    <tr>\n",
       "      <th>behavioral_avoidance</th>\n",
       "      <td>208</td>\n",
       "    </tr>\n",
       "    <tr>\n",
       "      <th>behavioral_touch_face</th>\n",
       "      <td>128</td>\n",
       "    </tr>\n",
       "    <tr>\n",
       "      <th>h1n1_knowledge</th>\n",
       "      <td>116</td>\n",
       "    </tr>\n",
       "    <tr>\n",
       "      <th>h1n1_concern</th>\n",
       "      <td>92</td>\n",
       "    </tr>\n",
       "    <tr>\n",
       "      <th>behavioral_large_gatherings</th>\n",
       "      <td>87</td>\n",
       "    </tr>\n",
       "    <tr>\n",
       "      <th>behavioral_outside_home</th>\n",
       "      <td>82</td>\n",
       "    </tr>\n",
       "    <tr>\n",
       "      <th>behavioral_antiviral_meds</th>\n",
       "      <td>71</td>\n",
       "    </tr>\n",
       "    <tr>\n",
       "      <th>behavioral_wash_hands</th>\n",
       "      <td>42</td>\n",
       "    </tr>\n",
       "    <tr>\n",
       "      <th>behavioral_face_mask</th>\n",
       "      <td>19</td>\n",
       "    </tr>\n",
       "    <tr>\n",
       "      <th>respondent_id</th>\n",
       "      <td>0</td>\n",
       "    </tr>\n",
       "    <tr>\n",
       "      <th>race</th>\n",
       "      <td>0</td>\n",
       "    </tr>\n",
       "    <tr>\n",
       "      <th>sex</th>\n",
       "      <td>0</td>\n",
       "    </tr>\n",
       "    <tr>\n",
       "      <th>age_group</th>\n",
       "      <td>0</td>\n",
       "    </tr>\n",
       "    <tr>\n",
       "      <th>hhs_geo_region</th>\n",
       "      <td>0</td>\n",
       "    </tr>\n",
       "    <tr>\n",
       "      <th>census_msa</th>\n",
       "      <td>0</td>\n",
       "    </tr>\n",
       "    <tr>\n",
       "      <th>h1n1_vaccine</th>\n",
       "      <td>0</td>\n",
       "    </tr>\n",
       "    <tr>\n",
       "      <th>seasonal_vaccine</th>\n",
       "      <td>0</td>\n",
       "    </tr>\n",
       "  </tbody>\n",
       "</table>\n",
       "</div>"
      ],
      "text/plain": [
       "                                 0\n",
       "employment_occupation        13470\n",
       "employment_industry          13330\n",
       "health_insurance             12274\n",
       "income_poverty                4423\n",
       "doctor_recc_seasonal          2160\n",
       "doctor_recc_h1n1              2160\n",
       "rent_or_own                   2042\n",
       "employment_status             1463\n",
       "marital_status                1408\n",
       "education                     1407\n",
       "chronic_med_condition          971\n",
       "child_under_6_months           820\n",
       "health_worker                  804\n",
       "opinion_seas_sick_from_vacc    537\n",
       "opinion_seas_risk              514\n",
       "opinion_seas_vacc_effective    462\n",
       "opinion_h1n1_sick_from_vacc    395\n",
       "opinion_h1n1_vacc_effective    391\n",
       "opinion_h1n1_risk              388\n",
       "household_children             249\n",
       "household_adults               249\n",
       "behavioral_avoidance           208\n",
       "behavioral_touch_face          128\n",
       "h1n1_knowledge                 116\n",
       "h1n1_concern                    92\n",
       "behavioral_large_gatherings     87\n",
       "behavioral_outside_home         82\n",
       "behavioral_antiviral_meds       71\n",
       "behavioral_wash_hands           42\n",
       "behavioral_face_mask            19\n",
       "respondent_id                    0\n",
       "race                             0\n",
       "sex                              0\n",
       "age_group                        0\n",
       "hhs_geo_region                   0\n",
       "census_msa                       0\n",
       "h1n1_vaccine                     0\n",
       "seasonal_vaccine                 0"
      ]
     },
     "execution_count": 9,
     "metadata": {},
     "output_type": "execute_result"
    }
   ],
   "source": [
    "# checking for missing values\n",
    "missing = data.isna().sum().to_frame().sort_values(0,ascending = False)\n",
    "missing"
   ]
  },
  {
   "cell_type": "markdown",
   "id": "2ca2927a",
   "metadata": {},
   "source": [
    "#### Findings\n",
    "* Most columns with float datatype are categorical in nature with values ranging from 0-5.\n",
    "* Most columns have missing values\n",
    "* There are no duplicate rows"
   ]
  },
  {
   "cell_type": "markdown",
   "id": "20c4a387",
   "metadata": {},
   "source": [
    "#### Relationship between knowledge about H1N1 and vaccine utilisation."
   ]
  },
  {
   "cell_type": "code",
   "execution_count": 10,
   "id": "56680f87",
   "metadata": {},
   "outputs": [
    {
     "data": {
      "image/png": "[encoded data removed]",
      "text/plain": [
       "<Figure size 1200x900 with 2 Axes>"
      ]
     },
     "metadata": {},
     "output_type": "display_data"
    }
   ],
   "source": [
    "fig,(ax_1,ax_2) = plt.subplots(figsize = (12,9),ncols = 2,sharey = True)\n",
    "\n",
    "my_cmap = plt.cm.coolwarm\n",
    "crosstab_know1 = pd.crosstab(data[\"h1n1_knowledge\"],data['h1n1_vaccine'],normalize=\"index\")\n",
    "crosstab_know1.plot(kind = \"barh\",stacked = True,colormap=my_cmap,ax = ax_1)\n",
    "crosstab_know2 = pd.crosstab(data[\"h1n1_knowledge\"],data['seasonal_vaccine'],normalize=\"index\")\n",
    "crosstab_know2.plot(kind = \"barh\",stacked = True,colormap=my_cmap,ax = ax_2)\n",
    "ax_1.set_xlabel(\"H1N1 vaccine utilisation\")\n",
    "ax_2.set_xlabel(\"Seasonal vaccine utilisation\")\n",
    "\n",
    "fig.suptitle(\"H1N1 knowledge vs Vaccine utilisation\")\n",
    "fig.tight_layout()"
   ]
  },
  {
   "cell_type": "markdown",
   "id": "26f5b555",
   "metadata": {},
   "source": [
    "There is a noticeable increase in vaccine utilisation with increase in H1N1 knowledge. People are once again more likely to take seasonal flu vaccinations."
   ]
  },
  {
   "cell_type": "markdown",
   "id": "398b12f4",
   "metadata": {},
   "source": [
    "#### Relationship between concern about H1N1 and vaccine utilisation"
   ]
  },
  {
   "cell_type": "code",
   "execution_count": 11,
   "id": "c2d9bb1c",
   "metadata": {},
   "outputs": [
    {
     "data": {
      "image/png": "[encoded data removed]",
      "text/plain": [
       "<Figure size 1200x900 with 2 Axes>"
      ]
     },
     "metadata": {},
     "output_type": "display_data"
    }
   ],
   "source": [
    "my_cmap = plt.cm.coolwarm\n",
    "fig,(ax_1,ax_2) = plt.subplots(figsize = (12,9),ncols = 2,sharey = True)\n",
    "\n",
    "crosstab_concern1 = pd.crosstab(data[\"h1n1_concern\"],data['h1n1_vaccine'],normalize=\"index\")\n",
    "crosstab_concern1.plot(kind = \"barh\",stacked = True,colormap=my_cmap,ax = ax_1)\n",
    "crosstab_concern2 = pd.crosstab(data[\"h1n1_concern\"],data['seasonal_vaccine'],normalize=\"index\")\n",
    "crosstab_concern2.plot(kind = \"barh\",stacked = True,colormap=my_cmap,ax = ax_2)\n",
    "ax_1.set_xlabel(\"H1N1 vaccine utilisation\")\n",
    "ax_2.set_xlabel(\"Seasonal vaccine utilisation\")\n",
    "\n",
    "fig.suptitle(\"H1N1 concern vs Vaccine utilisation\")\n",
    "fig.tight_layout()"
   ]
  },
  {
   "cell_type": "markdown",
   "id": "e85c99eb",
   "metadata": {},
   "source": [
    "From this graph, the higher the concern about being infected with H1N1, the higher the likelihood of utilising the vaccine. Utilisation of seasonal flu vaccine is noticeably higher in all categories."
   ]
  },
  {
   "cell_type": "markdown",
   "id": "2d5f5b27",
   "metadata": {},
   "source": [
    "#### Relationship between gender, race, age group and vaccine uptake."
   ]
  },
  {
   "cell_type": "code",
   "execution_count": 12,
   "id": "4b2c325a",
   "metadata": {},
   "outputs": [
    {
     "data": {
      "image/png": "[encoded data removed]",
      "text/plain": [
       "<Figure size 1200x900 with 6 Axes>"
      ]
     },
     "metadata": {},
     "output_type": "display_data"
    }
   ],
   "source": [
    "fig,axes = plt.subplots(figsize = (12,9),ncols = 2,nrows = 3)\n",
    "to_plot = [\"sex\",\"race\",\"age_group\"]\n",
    "\n",
    "for idx,col in enumerate(to_plot):\n",
    "    left_ax = axes[idx,0]\n",
    "    right_ax = axes[idx,1]\n",
    "\n",
    "    crosstab1 = pd.crosstab(data[col],data['h1n1_vaccine'],normalize=\"index\")\n",
    "    crosstab1.plot(kind = \"barh\",stacked = True,colormap=my_cmap,ax = left_ax)\n",
    "    crosstab2 = pd.crosstab(data[col],data['seasonal_vaccine'],normalize=\"index\")\n",
    "    crosstab2.plot(kind = \"barh\",stacked = True,colormap=my_cmap,ax = right_ax)\n",
    "    left_ax.set_xlabel(\"H1N1 vaccine utilisation\")\n",
    "    right_ax.set_xlabel(\"Seasonal vaccine utilisation\")\n",
    "    left_ax.set_title(f\"{col.title()} vs H1N1 vaccine utilisation\")\n",
    "    right_ax.set_title(f\"{col.title()} vs Seasonal flu vaccine utilisation\")\n",
    "\n",
    "fig.tight_layout(pad=2);"
   ]
  },
  {
   "cell_type": "markdown",
   "id": "2f0ee01f",
   "metadata": {},
   "source": [
    "From the graphs produced, the following observations are noted:\n",
    "* There are more women taking the seasonal flu vaccine. Vaccine utilisation between the genders is almost equal, however.\n",
    "* H1N1 vaccine utilisation is also almost equal among all races except for the black race. Seasonal flu vaccine utilisation is much higher across the board.\n",
    "* In the various age groups, H1N1 vaccine utilisation is almost similar across age groups. Younger respondents are less likely to take the seasonal flu vaccine however. \n"
   ]
  },
  {
   "cell_type": "markdown",
   "id": "b549255a",
   "metadata": {},
   "source": [
    "#### Influence of opinions on seasonal flu vaccine uptake?"
   ]
  },
  {
   "cell_type": "code",
   "execution_count": 21,
   "id": "e79db900",
   "metadata": {},
   "outputs": [
    {
     "data": {
      "image/png": "[encoded data removed]",
      "text/plain": [
       "<Figure size 1200x900 with 3 Axes>"
      ]
     },
     "metadata": {},
     "output_type": "display_data"
    }
   ],
   "source": [
    "fig,axes = plt.subplots(figsize = (12,9),nrows = 3)\n",
    "features_to_plot = ['opinion_seas_vacc_effective','opinion_seas_risk','opinion_seas_sick_from_vacc',]\n",
    "\n",
    "for idx,col in enumerate(features_to_plot):\n",
    "    ax = axes[idx]\n",
    "    crosstab1 = pd.crosstab(data[col],data['seasonal_vaccine'],normalize=\"index\")\n",
    "    crosstab1.plot(kind = \"barh\",stacked = True,colormap=my_cmap,ax = ax)\n",
    "    ax.set_xlabel(\"Seasonal Flu vaccine uptake\")\n",
    "    ax.set_title(f\"{col} vs Seasonal Flu vaccine uptake\")\n",
    "\n",
    "fig.tight_layout(pad=3);"
   ]
  },
  {
   "cell_type": "markdown",
   "id": "3a1780f5",
   "metadata": {},
   "source": [
    "Individuals that believe in the effectiveness of the seasonal flu vaccine are more likely to utilise it. People that are also more cautious about the risk of catching the flu without the vaccine are also more likely to utilise it."
   ]
  },
  {
   "cell_type": "code",
   "execution_count": 23,
   "id": "04f35c9c",
   "metadata": {},
   "outputs": [
    {
     "data": {
      "image/png": "[encoded data removed]",
      "text/plain": [
       "<Figure size 2000x2000 with 6 Axes>"
      ]
     },
     "metadata": {},
     "output_type": "display_data"
    }
   ],
   "source": [
    "# adding columns to plot to a list\n",
    "columns = [\"age_group\",\"sex\",\"education\",\"race\",\"income_poverty\",\"employment_status\"]\n",
    "\n",
    "# setting style,axes and figsize\n",
    "fig,axes = plt.subplots(figsize = (20,20),nrows = 3,ncols = 2)\n",
    "sns.set_style(\"whitegrid\")\n",
    "\n",
    "for i,col in enumerate(columns):\n",
    "    # defining the axis for plotting\n",
    "    row = i//2\n",
    "    column = i%2\n",
    "    ax = axes[row][column]\n",
    "    # defining x and y for the barchart\n",
    "    x = data[col].value_counts(normalize=True).index\n",
    "    y = data[col].value_counts(normalize=True)\n",
    "    sns.barplot(x=x, y=y, hue=x, palette=\"summer\", ax=ax, legend=False)\n",
    "    ax.set_xlabel(f\"{col.title()}\")\n",
    "    ax.set_ylabel(\"Count\")\n",
    "    ax.set_title(f\"Distribution of {col.title()}\");"
   ]
  },
  {
   "cell_type": "markdown",
   "id": "3bddabb0",
   "metadata": {},
   "source": [
    "#### Observations\n",
    "* Majority of the respondents are above 65 years of age.\n",
    "* About 60% of the respondents are female.\n",
    "* Most of the respondents are college graduates.\n",
    "* 80% are white.\n",
    "* About 60% earn between the poverty line and around $75,000 annually.\n",
    "* Most of the respondents are employed."
   ]
  }
 ],
 "metadata": {
  "kernelspec": {
   "display_name": "Python 3",
   "language": "python",
   "name": "python3"
  },
  "language_info": {
   "codemirror_mode": {
    "name": "ipython",
    "version": 3
   },
   "file_extension": ".py",
   "mimetype": "text/x-python",
   "name": "python",
   "nbconvert_exporter": "python",
   "pygments_lexer": "ipython3",
   "version": "3.13.5"
  }
 },
 "nbformat": 4,
 "nbformat_minor": 5
}
